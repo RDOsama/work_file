{
 "cells": [
  {
   "cell_type": "markdown",
   "id": "3367bc49",
   "metadata": {},
   "source": [
    "# descriptive statistics code"
   ]
  },
  {
   "cell_type": "code",
   "execution_count": null,
   "id": "5e715028",
   "metadata": {},
   "outputs": [],
   "source": [
    "df = df_customers_profiles.select_dtypes(include=['number'])\n",
    "mean = df.mean()\n",
    "median = df.median()\n",
    "mode = df.mode()\n",
    "\n",
    "# Spread\n",
    "min_value = df.min()\n",
    "max_value = df.max()\n",
    "range_value = max_value - min_value\n",
    "variance = df.var()\n",
    "std_deviation = df.std()\n",
    "\n",
    "# Shape\n",
    "skewness = df.skew()\n",
    "kurtosis = df.kurtosis()\n",
    "\n",
    "# Dependence\n",
    "correlation_matrix = df.corr()\n",
    "\n",
    "# Contingency Table\n",
    "# contingency_table = pd.crosstab(df['A'], df['B'])\n",
    "\n",
    "# Display the results\n",
    "print(\"********* Mean:\\n\", mean)\n",
    "print(\"********* Median:\\n\", median)\n",
    "print(\"********* Mode:\\n\", mode)\n",
    "print(\"********* Min:\\n\", min_value)\n",
    "print(\"********* Max:\\n\", max_value)\n",
    "print(\"********* Range:\\n\", range_value)\n",
    "print(\"********* Variance:\\n\", variance)\n",
    "print(\"********* Standard Deviation:\\n\", std_deviation)\n",
    "print(\"********* Skewness:\\n\", skewness)\n",
    "print(\"********* Kurtosis:\\n\", kurtosis)\n",
    "print(\"********* Correlation Matrix:\\n\", correlation_matrix)\n"
   ]
  },
  {
   "cell_type": "code",
   "execution_count": null,
   "id": "02985cf5",
   "metadata": {},
   "outputs": [],
   "source": []
  },
  {
   "cell_type": "code",
   "execution_count": null,
   "id": "efb5a7f8",
   "metadata": {},
   "outputs": [],
   "source": []
  },
  {
   "cell_type": "markdown",
   "id": "0de35fb2",
   "metadata": {},
   "source": [
    "# Non Datetime values"
   ]
  },
  {
   "cell_type": "code",
   "execution_count": 5,
   "id": "a8c46999",
   "metadata": {},
   "outputs": [
    {
     "name": "stdout",
     "output_type": "stream",
     "text": [
      "  date\n",
      "2  NaT\n",
      "3  NaT\n"
     ]
    }
   ],
   "source": [
    "import pandas as pd\n",
    "\n",
    "# Create a sample DataFrame with a 'date' column\n",
    "data = {'date': ['2023-10-12', '2023-10-13', 'apple', 'cherry']}\n",
    "df = pd.DataFrame(data)\n",
    "\n",
    "# Convert the 'date' column to datetime\n",
    "df['date'] = pd.to_datetime(df['date'], errors='coerce')\n",
    "\n",
    "# Use boolean indexing to select rows where 'date' is a datetime value\n",
    "datetime_rows = df[df['date'].isna()]\n",
    "\n",
    "# Print the selected rows\n",
    "print(datetime_rows)"
   ]
  },
  {
   "cell_type": "markdown",
   "id": "12a16b6f",
   "metadata": {},
   "source": [
    "# Non String values"
   ]
  },
  {
   "cell_type": "code",
   "execution_count": 6,
   "id": "f715132d",
   "metadata": {},
   "outputs": [
    {
     "name": "stdout",
     "output_type": "stream",
     "text": [
      "   column_name\n",
      "1        42.00\n",
      "2         3.14\n",
      "4        17.50\n"
     ]
    }
   ],
   "source": [
    "import pandas as pd\n",
    "\n",
    "# Create a sample DataFrame with a 'column_name' column\n",
    "data = {'column_name': ['apple', 42, 3.14, 'banana', 17.5]}\n",
    "df = pd.DataFrame(data)\n",
    "\n",
    "# Use pd.to_numeric to attempt to convert the 'column_name' to numeric, replacing non-numeric values with NaN\n",
    "df['column_name'] = pd.to_numeric(df['column_name'], errors='coerce')\n",
    "\n",
    "# Use boolean indexing to select rows where 'column_name' is not a numeric (non-string) value\n",
    "non_string_rows = df[df['column_name'].notna()]\n",
    "\n",
    "# Print the selected rows\n",
    "print(non_string_rows)\n"
   ]
  },
  {
   "cell_type": "markdown",
   "id": "8e0c31da",
   "metadata": {},
   "source": [
    "# Get string only"
   ]
  },
  {
   "cell_type": "code",
   "execution_count": 10,
   "id": "c8ba7cab",
   "metadata": {},
   "outputs": [
    {
     "name": "stdout",
     "output_type": "stream",
     "text": [
      "  column_name\n",
      "0       apple\n",
      "3      banana\n"
     ]
    }
   ],
   "source": [
    "import pandas as pd\n",
    "import numpy as np\n",
    "\n",
    "# Create a sample DataFrame\n",
    "data = {'column_name': ['apple', 42, 3.14, 'banana', 17.5]}\n",
    "df = pd.DataFrame(data)\n",
    "\n",
    "# Use boolean indexing to select rows where 'column_name' is not a float64\n",
    "non_float_rows = df[~pd.to_numeric(df['column_name'], errors='coerce').notna()]\n",
    "\n",
    "# Print the selected rows\n",
    "print(non_float_rows)\n"
   ]
  },
  {
   "cell_type": "markdown",
   "id": "6f0067be",
   "metadata": {},
   "source": [
    "# dictioanry contain value to remove and what to remove"
   ]
  },
  {
   "cell_type": "code",
   "execution_count": null,
   "id": "9a127299",
   "metadata": {},
   "outputs": [],
   "source": [
    "value_counts = df_customers_profiles['original_country'].value_counts()\n",
    "replace_dict = {country: i for i, country in enumerate(value_counts.index)}\n",
    "df_customers_profiles['original_country'] = df_customers_profiles['original_country'].replace(replace_dict)"
   ]
  },
  {
   "cell_type": "code",
   "execution_count": null,
   "id": "9e7c6064",
   "metadata": {},
   "outputs": [],
   "source": []
  },
  {
   "cell_type": "code",
   "execution_count": null,
   "id": "c331ced5",
   "metadata": {},
   "outputs": [],
   "source": []
  },
  {
   "cell_type": "code",
   "execution_count": 11,
   "id": "a966580d",
   "metadata": {},
   "outputs": [
    {
     "data": {
      "image/png": "[encoded data removed]",
      "text/plain": [
       "<Figure size 640x480 with 1 Axes>"
      ]
     },
     "metadata": {},
     "output_type": "display_data"
    }
   ],
   "source": [
    "import pandas as pd\n",
    "import matplotlib.pyplot as plt\n",
    "\n",
    "# Create a sample DataFrame\n",
    "data = {\n",
    "    'X': [1, 2, 3, 4, 5],\n",
    "    'Y1': [2, 4, 6, 8, 10],\n",
    "    'Y2': [1, 3, 5, 7, 9],\n",
    "    'Y3': [5, 4, 3, 2, 1]\n",
    "}\n",
    "df = pd.DataFrame(data)\n",
    "\n",
    "# The column you want to use as X-axis\n",
    "x_column = 'X'\n",
    "\n",
    "# Create scatter plots for the relationship between 'X' and the other columns\n",
    "for column in df.columns:\n",
    "    if column != x_column:\n",
    "        plt.scatter(df[x_column], df[column], label=column)\n",
    "\n",
    "# Add labels, legend, and title\n",
    "plt.xlabel(x_column)\n",
    "plt.ylabel(\"Values\")\n",
    "plt.legend()\n",
    "plt.title(f\"Scatter Plots of {x_column} vs. Other Columns\")\n",
    "\n",
    "# Show the plot\n",
    "plt.show()\n",
    "\n"
   ]
  },
  {
   "cell_type": "markdown",
   "id": "1a52f09e",
   "metadata": {},
   "source": [
    "# Box plot"
   ]
  },
  {
   "cell_type": "code",
   "execution_count": 12,
   "id": "33ebc81e",
   "metadata": {},
   "outputs": [
    {
     "data": {
      "image/png": "[encoded data removed]",
      "text/plain": [
       "<Figure size 640x480 with 1 Axes>"
      ]
     },
     "metadata": {},
     "output_type": "display_data"
    }
   ],
   "source": [
    "import pandas as pd\n",
    "import matplotlib.pyplot as plt\n",
    "\n",
    "# Create a sample DataFrame\n",
    "data = {'values': [10, 15, 20, 25, 50, 60, 200]}\n",
    "df = pd.DataFrame(data)\n",
    "\n",
    "# Create a box plot\n",
    "plt.boxplot(df['values'])\n",
    "plt.title('Box Plot of \"values\"')\n",
    "plt.show()\n"
   ]
  },
  {
   "cell_type": "code",
   "execution_count": 13,
   "id": "fc248793",
   "metadata": {},
   "outputs": [],
   "source": [
    "Q1 = df['values'].quantile(0.25)\n",
    "Q3 = df['values'].quantile(0.75)\n",
    "IQR = Q3 - Q1\n",
    "df_no_outliers = df[(df['values'] >= Q1 - 1.5 * IQR) & (df['values'] <= Q3 + 1.5 * IQR)]\n"
   ]
  },
  {
   "cell_type": "code",
   "execution_count": 14,
   "id": "6a23a0c5",
   "metadata": {},
   "outputs": [
    {
     "data": {
      "image/png": "[encoded data removed]",
      "text/plain": [
       "<Figure size 640x480 with 1 Axes>"
      ]
     },
     "metadata": {},
     "output_type": "display_data"
    }
   ],
   "source": [
    "import pandas as pd\n",
    "import matplotlib.pyplot as plt\n",
    "\n",
    "# # Create a sample DataFrame\n",
    "# data = {'values': [10, 15, 20, 25, 50, 60, 200]}\n",
    "# df = pd.DataFrame(data)\n",
    "\n",
    "# Create a box plot\n",
    "plt.boxplot(df_no_outliers['values'])\n",
    "plt.title('Box Plot of \"values\"')\n",
    "plt.show()\n"
   ]
  },
  {
   "cell_type": "code",
   "execution_count": 15,
   "id": "a0ea2515",
   "metadata": {},
   "outputs": [
    {
     "data": {
      "image/png": "[encoded data removed]",
      "text/plain": [
       "<Figure size 640x480 with 1 Axes>"
      ]
     },
     "metadata": {},
     "output_type": "display_data"
    }
   ],
   "source": [
    "import pandas as pd\n",
    "import matplotlib.pyplot as plt\n",
    "\n",
    "# Assuming you have a DataFrame 'df'\n",
    "df = pd.DataFrame({\n",
    "    'y': [5, 4, 3, 2, 1]\n",
    "})\n",
    "\n",
    "df.reset_index().plot.scatter(x='index', y='y', c='DarkBlue')\n",
    "plt.show()\n"
   ]
  },
  {
   "cell_type": "code",
   "execution_count": null,
   "id": "b53a7a6e",
   "metadata": {},
   "outputs": [],
   "source": []
  },
  {
   "cell_type": "code",
   "execution_count": null,
   "id": "8f33b0b9",
   "metadata": {},
   "outputs": [],
   "source": []
  }
 ],
 "metadata": {
  "kernelspec": {
   "display_name": "Python 3 (ipykernel)",
   "language": "python",
   "name": "python3"
  },
  "language_info": {
   "codemirror_mode": {
    "name": "ipython",
    "version": 3
   },
   "file_extension": ".py",
   "mimetype": "text/x-python",
   "name": "python",
   "nbconvert_exporter": "python",
   "pygments_lexer": "ipython3",
   "version": "3.11.3"
  }
 },
 "nbformat": 4,
 "nbformat_minor": 5
}
