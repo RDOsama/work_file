{
 "cells": [
  {
   "cell_type": "code",
   "execution_count": 1,
   "id": "e922e34e",
   "metadata": {},
   "outputs": [],
   "source": [
    "\n",
    "\n",
    "import pandas as pd\n",
    "import gender_guesser.detector as gender"
   ]
  },
  {
   "cell_type": "code",
   "execution_count": null,
   "id": "f768d051",
   "metadata": {},
   "outputs": [],
   "source": []
  },
  {
   "cell_type": "markdown",
   "id": "3367bc49",
   "metadata": {},
   "source": [
    "# descriptive statistics code"
   ]
  },
  {
   "cell_type": "code",
   "execution_count": null,
   "id": "5e715028",
   "metadata": {},
   "outputs": [],
   "source": [
    "df = df_customers_profiles.select_dtypes(include=['number'])\n",
    "mean = df.mean()\n",
    "median = df.median()\n",
    "mode = df.mode()\n",
    "\n",
    "# Spread\n",
    "min_value = df.min()\n",
    "max_value = df.max()\n",
    "range_value = max_value - min_value\n",
    "variance = df.var()\n",
    "std_deviation = df.std()\n",
    "\n",
    "# Shape\n",
    "skewness = df.skew()\n",
    "kurtosis = df.kurtosis()\n",
    "\n",
    "# Dependence\n",
    "correlation_matrix = df.corr()\n",
    "\n",
    "# Contingency Table\n",
    "# contingency_table = pd.crosstab(df['A'], df['B'])\n",
    "\n",
    "# Display the results\n",
    "print(\"********* Mean:\\n\", mean)\n",
    "print(\"********* Median:\\n\", median)\n",
    "print(\"********* Mode:\\n\", mode)\n",
    "print(\"********* Min:\\n\", min_value)\n",
    "print(\"********* Max:\\n\", max_value)\n",
    "print(\"********* Range:\\n\", range_value)\n",
    "print(\"********* Variance:\\n\", variance)\n",
    "print(\"********* Standard Deviation:\\n\", std_deviation)\n",
    "print(\"********* Skewness:\\n\", skewness)\n",
    "print(\"********* Kurtosis:\\n\", kurtosis)\n",
    "print(\"********* Correlation Matrix:\\n\", correlation_matrix)\n"
   ]
  },
  {
   "cell_type": "code",
   "execution_count": null,
   "id": "02985cf5",
   "metadata": {},
   "outputs": [],
   "source": []
  },
  {
   "cell_type": "code",
   "execution_count": null,
   "id": "efb5a7f8",
   "metadata": {},
   "outputs": [],
   "source": []
  },
  {
   "cell_type": "markdown",
   "id": "0de35fb2",
   "metadata": {},
   "source": [
    "# Non Datetime values"
   ]
  },
  {
   "cell_type": "code",
   "execution_count": 5,
   "id": "a8c46999",
   "metadata": {},
   "outputs": [
    {
     "name": "stdout",
     "output_type": "stream",
     "text": [
      "  date\n",
      "2  NaT\n",
      "3  NaT\n"
     ]
    }
   ],
   "source": [
    "import pandas as pd\n",
    "\n",
    "# Create a sample DataFrame with a 'date' column\n",
    "data = {'date': ['2023-10-12', '2023-10-13', 'apple', 'cherry']}\n",
    "df = pd.DataFrame(data)\n",
    "\n",
    "# Convert the 'date' column to datetime\n",
    "df['date'] = pd.to_datetime(df['date'], errors='coerce')\n",
    "\n",
    "# Use boolean indexing to select rows where 'date' is a datetime value\n",
    "datetime_rows = df[df['date'].isna()]\n",
    "\n",
    "# Print the selected rows\n",
    "print(datetime_rows)"
   ]
  },
  {
   "cell_type": "markdown",
   "id": "12a16b6f",
   "metadata": {},
   "source": [
    "# Non String values"
   ]
  },
  {
   "cell_type": "code",
   "execution_count": 6,
   "id": "f715132d",
   "metadata": {},
   "outputs": [
    {
     "name": "stdout",
     "output_type": "stream",
     "text": [
      "   column_name\n",
      "1        42.00\n",
      "2         3.14\n",
      "4        17.50\n"
     ]
    }
   ],
   "source": [
    "import pandas as pd\n",
    "\n",
    "# Create a sample DataFrame with a 'column_name' column\n",
    "data = {'column_name': ['apple', 42, 3.14, 'banana', 17.5]}\n",
    "df = pd.DataFrame(data)\n",
    "\n",
    "# Use pd.to_numeric to attempt to convert the 'column_name' to numeric, replacing non-numeric values with NaN\n",
    "df['column_name'] = pd.to_numeric(df['column_name'], errors='coerce')\n",
    "\n",
    "# Use boolean indexing to select rows where 'column_name' is not a numeric (non-string) value\n",
    "non_string_rows = df[df['column_name'].notna()]\n",
    "\n",
    "# Print the selected rows\n",
    "print(non_string_rows)\n"
   ]
  },
  {
   "cell_type": "markdown",
   "id": "8e0c31da",
   "metadata": {},
   "source": [
    "# Get string only"
   ]
  },
  {
   "cell_type": "code",
   "execution_count": 10,
   "id": "c8ba7cab",
   "metadata": {},
   "outputs": [
    {
     "name": "stdout",
     "output_type": "stream",
     "text": [
      "  column_name\n",
      "0       apple\n",
      "3      banana\n"
     ]
    }
   ],
   "source": [
    "import pandas as pd\n",
    "import numpy as np\n",
    "\n",
    "# Create a sample DataFrame\n",
    "data = {'column_name': ['apple', 42, 3.14, 'banana', 17.5]}\n",
    "df = pd.DataFrame(data)\n",
    "\n",
    "# Use boolean indexing to select rows where 'column_name' is not a float64\n",
    "non_float_rows = df[~pd.to_numeric(df['column_name'], errors='coerce').notna()]\n",
    "\n",
    "# Print the selected rows\n",
    "print(non_float_rows)\n"
   ]
  },
  {
   "cell_type": "markdown",
   "id": "6f0067be",
   "metadata": {},
   "source": [
    "# dictioanry contain value to remove and what to remove"
   ]
  },
  {
   "cell_type": "code",
   "execution_count": null,
   "id": "9a127299",
   "metadata": {},
   "outputs": [],
   "source": [
    "value_counts = df_customers_profiles['original_country'].value_counts()\n",
    "replace_dict = {country: i for i, country in enumerate(value_counts.index)}\n",
    "df_customers_profiles['original_country'] = df_customers_profiles['original_country'].replace(replace_dict)"
   ]
  },
  {
   "cell_type": "code",
   "execution_count": null,
   "id": "9e7c6064",
   "metadata": {},
   "outputs": [],
   "source": []
  },
  {
   "cell_type": "code",
   "execution_count": null,
   "id": "c331ced5",
   "metadata": {},
   "outputs": [],
   "source": []
  },
  {
   "cell_type": "code",
   "execution_count": 11,
   "id": "a966580d",
   "metadata": {},
   "outputs": [
    {
     "data": {
      "image/png": "[encoded data removed]",
      "text/plain": [
       "<Figure size 640x480 with 1 Axes>"
      ]
     },
     "metadata": {},
     "output_type": "display_data"
    }
   ],
   "source": [
    "import pandas as pd\n",
    "import matplotlib.pyplot as plt\n",
    "\n",
    "# Create a sample DataFrame\n",
    "data = {\n",
    "    'X': [1, 2, 3, 4, 5],\n",
    "    'Y1': [2, 4, 6, 8, 10],\n",
    "    'Y2': [1, 3, 5, 7, 9],\n",
    "    'Y3': [5, 4, 3, 2, 1]\n",
    "}\n",
    "df = pd.DataFrame(data)\n",
    "\n",
    "# The column you want to use as X-axis\n",
    "x_column = 'X'\n",
    "\n",
    "# Create scatter plots for the relationship between 'X' and the other columns\n",
    "for column in df.columns:\n",
    "    if column != x_column:\n",
    "        plt.scatter(df[x_column], df[column], label=column)\n",
    "\n",
    "# Add labels, legend, and title\n",
    "plt.xlabel(x_column)\n",
    "plt.ylabel(\"Values\")\n",
    "plt.legend()\n",
    "plt.title(f\"Scatter Plots of {x_column} vs. Other Columns\")\n",
    "\n",
    "# Show the plot\n",
    "plt.show()\n",
    "\n"
   ]
  },
  {
   "cell_type": "markdown",
   "id": "1a52f09e",
   "metadata": {},
   "source": [
    "# Box plot"
   ]
  },
  {
   "cell_type": "code",
   "execution_count": 12,
   "id": "33ebc81e",
   "metadata": {},
   "outputs": [
    {
     "data": {
      "image/png": "[encoded data removed]",
      "text/plain": [
       "<Figure size 640x480 with 1 Axes>"
      ]
     },
     "metadata": {},
     "output_type": "display_data"
    }
   ],
   "source": [
    "import pandas as pd\n",
    "import matplotlib.pyplot as plt\n",
    "\n",
    "# Create a sample DataFrame\n",
    "data = {'values': [10, 15, 20, 25, 50, 60, 200]}\n",
    "df = pd.DataFrame(data)\n",
    "\n",
    "# Create a box plot\n",
    "plt.boxplot(df['values'])\n",
    "plt.title('Box Plot of \"values\"')\n",
    "plt.show()\n"
   ]
  },
  {
   "cell_type": "code",
   "execution_count": 13,
   "id": "fc248793",
   "metadata": {},
   "outputs": [],
   "source": [
    "Q1 = df['values'].quantile(0.25)\n",
    "Q3 = df['values'].quantile(0.75)\n",
    "IQR = Q3 - Q1\n",
    "df_no_outliers = df[(df['values'] >= Q1 - 1.5 * IQR) & (df['values'] <= Q3 + 1.5 * IQR)]\n"
   ]
  },
  {
   "cell_type": "code",
   "execution_count": 14,
   "id": "6a23a0c5",
   "metadata": {},
   "outputs": [
    {
     "data": {
      "image/png": "[encoded data removed]",
      "text/plain": [
       "<Figure size 640x480 with 1 Axes>"
      ]
     },
     "metadata": {},
     "output_type": "display_data"
    }
   ],
   "source": [
    "import pandas as pd\n",
    "import matplotlib.pyplot as plt\n",
    "\n",
    "# # Create a sample DataFrame\n",
    "# data = {'values': [10, 15, 20, 25, 50, 60, 200]}\n",
    "# df = pd.DataFrame(data)\n",
    "\n",
    "# Create a box plot\n",
    "plt.boxplot(df_no_outliers['values'])\n",
    "plt.title('Box Plot of \"values\"')\n",
    "plt.show()\n"
   ]
  },
  {
   "cell_type": "code",
   "execution_count": 15,
   "id": "a0ea2515",
   "metadata": {},
   "outputs": [
    {
     "data": {
      "image/png": "[encoded data removed]",
      "text/plain": [
       "<Figure size 640x480 with 1 Axes>"
      ]
     },
     "metadata": {},
     "output_type": "display_data"
    }
   ],
   "source": [
    "import pandas as pd\n",
    "import matplotlib.pyplot as plt\n",
    "\n",
    "# Assuming you have a DataFrame 'df'\n",
    "df = pd.DataFrame({\n",
    "    'y': [5, 4, 3, 2, 1]\n",
    "})\n",
    "\n",
    "df.reset_index().plot.scatter(x='index', y='y', c='DarkBlue')\n",
    "plt.show()\n"
   ]
  },
  {
   "cell_type": "markdown",
   "id": "76cad0ff",
   "metadata": {},
   "source": [
    "# Gender Prediction using first name"
   ]
  },
  {
   "cell_type": "code",
   "execution_count": null,
   "id": "b53a7a6e",
   "metadata": {},
   "outputs": [],
   "source": [
    "!pip install gender_guesser"
   ]
  },
  {
   "cell_type": "code",
   "execution_count": 1,
   "id": "8f33b0b9",
   "metadata": {},
   "outputs": [
    {
     "name": "stdout",
     "output_type": "stream",
     "text": [
      "Collecting gender_guesser\n",
      "  Downloading gender_guesser-0.4.0-py2.py3-none-any.whl (379 kB)\n",
      "\u001b[2K     \u001b[90m━━━━━━━━━━━━━━━━━━━━━━━━━━━━━━━━━━━━━━━\u001b[0m \u001b[32m379.3/379.3 kB\u001b[0m \u001b[31m3.0 MB/s\u001b[0m eta \u001b[36m0:00:00\u001b[0ma \u001b[36m0:00:01\u001b[0m\n",
      "\u001b[?25hInstalling collected packages: gender_guesser\n",
      "Successfully installed gender_guesser-0.4.0\n",
      "  first_name       Gender\n",
      "0       ajay         male\n",
      "1       amit         male\n",
      "2        raj  mostly_male\n",
      "3       mona       female\n",
      "4       sema       female\n"
     ]
    }
   ],
   "source": [
    "\n",
    "\n",
    "import pandas as pd\n",
    "import gender_guesser.detector as gender\n",
    "\n",
    "# Assuming you have a DataFrame 'df' with a column 'first_name'\n",
    "df = pd.DataFrame({'first_name': ['ajay', 'amit', 'raj', 'mona', 'sema']})\n",
    "\n",
    "gd = gender.Detector(case_sensitive=False)\n",
    "\n",
    "# Capitalize the names before passing them into the guesser\n",
    "df['Gender'] = df['first_name'].apply(str.capitalize).map(gd.get_gender)\n",
    "\n",
    "print(df)\n"
   ]
  },
  {
   "cell_type": "code",
   "execution_count": 3,
   "id": "fb61a392",
   "metadata": {},
   "outputs": [
    {
     "name": "stdout",
     "output_type": "stream",
     "text": [
      "The predicted gender for IVETTE is female.\n"
     ]
    }
   ],
   "source": [
    "gd = gender.Detector(case_sensitive=False)\n",
    "name = 'IVETTE'\n",
    "gender = gd.get_gender(name.capitalize())\n",
    "\n",
    "print(f'The predicted gender for {name} is {gender}.')"
   ]
  },
  {
   "cell_type": "code",
   "execution_count": 24,
   "id": "9e5a8826",
   "metadata": {},
   "outputs": [
    {
     "name": "stdout",
     "output_type": "stream",
     "text": [
      "['G', 'A', 'R', 'R', 'E', 'N', 'J', 'I', 'M']\n"
     ]
    },
    {
     "ename": "AttributeError",
     "evalue": "'str' object has no attribute 'lowar'",
     "output_type": "error",
     "traceback": [
      "\u001b[0;31m---------------------------------------------------------------------------\u001b[0m",
      "\u001b[0;31mAttributeError\u001b[0m                            Traceback (most recent call last)",
      "Cell \u001b[0;32mIn[24], line 10\u001b[0m\n\u001b[1;32m      6\u001b[0m separated_word \u001b[38;5;241m=\u001b[39m re\u001b[38;5;241m.\u001b[39mfindall(\u001b[38;5;124m'\u001b[39m\u001b[38;5;124m[A-Z][^A-Z]*\u001b[39m\u001b[38;5;124m'\u001b[39m, word)\n\u001b[1;32m      8\u001b[0m \u001b[38;5;28mprint\u001b[39m(separated_word)\n\u001b[0;32m---> 10\u001b[0m name\u001b[38;5;241m.\u001b[39mlowar()\n",
      "\u001b[0;31mAttributeError\u001b[0m: 'str' object has no attribute 'lowar'"
     ]
    }
   ],
   "source": [
    "name = 'IVETTE'\n",
    "word = \"GARRENJIM\"\n",
    "\n",
    "# Separate the word based on uppercase letters\n",
    "import re\n",
    "separated_word = re.findall('[A-Z][^A-Z]*', word)\n",
    "\n",
    "print(separated_word)\n",
    "\n",
    "name.lowar()"
   ]
  },
  {
   "cell_type": "markdown",
   "id": "14a0a64c",
   "metadata": {},
   "source": [
    "# Datetime Work"
   ]
  },
  {
   "cell_type": "code",
   "execution_count": 5,
   "id": "9491de62",
   "metadata": {},
   "outputs": [
    {
     "name": "stdout",
     "output_type": "stream",
     "text": [
      "          dob\n",
      "0  1990-04-05\n",
      "1  1993-07-13\n",
      "2  1991-10-10\n",
      "3  1984-04-19\n",
      "4  1999-09-22\n",
      "5  1993-06-07\n",
      "6  1978-07-14\n",
      "7  1986-02-06\n",
      "8  1951-05-02\n"
     ]
    }
   ],
   "source": [
    "import pandas as pd\n",
    "\n",
    "# Create a sample DataFrame with the 'dob' column\n",
    "data = {\n",
    "    'dob': ['1990-04-05 00:00:00', '1993-07-13', '1991-10-10', '1984-04-19', '1999-09-22', '6/7/1993', '1978-07-14', '1986-02-06', '1951-05-02']\n",
    "}\n",
    "\n",
    "df = pd.DataFrame(data)\n",
    "\n",
    "# Convert the 'dob' column to a consistent date format\n",
    "df['dob'] = pd.to_datetime(df['dob'], errors='coerce').dt.strftime('%Y-%m-%d')\n",
    "\n",
    "# Print the DataFrame with dates in the desired format\n",
    "print(df)\n"
   ]
  },
  {
   "cell_type": "code",
   "execution_count": null,
   "id": "c3f50c8d",
   "metadata": {},
   "outputs": [],
   "source": []
  },
  {
   "cell_type": "code",
   "execution_count": 11,
   "id": "d427f865",
   "metadata": {},
   "outputs": [
    {
     "name": "stdout",
     "output_type": "stream",
     "text": [
      "         dob\n",
      "1 1850-07-13\n",
      "4 2023-09-22\n"
     ]
    }
   ],
   "source": [
    "import pandas as pd\n",
    "\n",
    "# Create a sample DataFrame with the 'dob' column\n",
    "data = {\n",
    "    'dob': ['1990-04-05', '1850-07-13', '1991-10-10', '1984-04-19', '2023-09-22', '6/7/1993', '1978-07-14', '1986-02-06', '1951-05-02',  '1850-07-44']\n",
    "}\n",
    "\n",
    "df = pd.DataFrame(data)\n",
    "\n",
    "# Convert the 'dob' column to datetime\n",
    "df['dob'] = pd.to_datetime(df['dob'], errors='coerce')\n",
    "\n",
    "# Define a range of acceptable years (e.g., 1900 to 2022)\n",
    "min_year = pd.Timestamp('1900-01-01')\n",
    "max_year = pd.Timestamp('2022-12-31')\n",
    "\n",
    "# Filter for inaccuracies\n",
    "inaccurate_dob = df[(df['dob'] < min_year) | (df['dob'] > max_year)]\n",
    "\n",
    "# Print the inaccurate DOB values\n",
    "print(inaccurate_dob)\n"
   ]
  },
  {
   "cell_type": "code",
   "execution_count": 12,
   "id": "e8ebaf08",
   "metadata": {},
   "outputs": [
    {
     "name": "stdout",
     "output_type": "stream",
     "text": [
      "          dob\n",
      "1  1850-07-13\n",
      "4  2023-09-22\n",
      "5    6/7/1993\n"
     ]
    }
   ],
   "source": [
    "import pandas as pd\n",
    "import re\n",
    "\n",
    "# Create a sample DataFrame with the 'dob' column\n",
    "data = {\n",
    "    'dob': ['1990-04-05', '1850-07-13', '1991-10-10', '1984-04-19', '2023-09-22', '6/7/1993', '1978-07-14', '1986-02-06', '1951-05-02', '1850-07-44']\n",
    "}\n",
    "\n",
    "df = pd.DataFrame(data)\n",
    "\n",
    "# Define a regular expression pattern for valid dates (YYYY-MM-DD)\n",
    "date_pattern = r'^\\d{4}-\\d{2}-\\d{2}$'\n",
    "\n",
    "# Filter for inaccuracies\n",
    "inaccurate_dob = df[~df['dob'].str.match(date_pattern) | (pd.to_datetime(df['dob'], errors='coerce') < pd.Timestamp('1900-01-01')) | (pd.to_datetime(df['dob'], errors='coerce') > pd.Timestamp('2022-12-31'))]\n",
    "\n",
    "# Print the inaccurate DOB values\n",
    "print(inaccurate_dob)\n"
   ]
  },
  {
   "cell_type": "code",
   "execution_count": 16,
   "id": "73bc4fea",
   "metadata": {},
   "outputs": [
    {
     "name": "stdout",
     "output_type": "stream",
     "text": [
      "          dob\n",
      "0  1990-05-04\n",
      "1         NaN\n",
      "2  1991-10-10\n",
      "3  1984-04-19\n",
      "4         NaN\n",
      "5  1993-07-06\n",
      "6  1978-07-14\n",
      "7  1986-06-02\n",
      "8  1951-02-05\n",
      "9         NaN\n"
     ]
    }
   ],
   "source": [
    "import pandas as pd\n",
    "from dateutil import parser\n",
    "import numpy as np\n",
    "\n",
    "# Create a sample DataFrame with the 'dob' column\n",
    "data = {\n",
    "    'dob': ['1990-04-05', '1850-07-13', '1991-10-10', '1984-04-19', '2023-09-22', '6/7/1993', '1978-07-14', '1986-02-06', '1951-05-02', '1850-07-44']\n",
    "}\n",
    "\n",
    "df = pd.DataFrame(data)\n",
    "\n",
    "# Function to replace inconsistent dates with NaN\n",
    "def replace_inconsistent_dates(date_str):\n",
    "    try:\n",
    "        parsed_date = parser.parse(str(date_str), dayfirst=True)\n",
    "        if not (1900 <= parsed_date.year <= 2022):\n",
    "            return np.nan\n",
    "        return parsed_date.strftime('%Y-%m-%d')\n",
    "    except ValueError:\n",
    "        return np.nan\n",
    "\n",
    "# Replace inconsistent dates with NaN\n",
    "df['dob'] = df['dob'].apply(replace_inconsistent_dates)\n",
    "\n",
    "# Print the DataFrame with inconsistent dates replaced by NaN\n",
    "print(df)\n"
   ]
  },
  {
   "cell_type": "code",
   "execution_count": 3,
   "id": "f89d1fbc",
   "metadata": {},
   "outputs": [
    {
     "name": "stdout",
     "output_type": "stream",
     "text": [
      "  datetime_column\n",
      "3    Invalid Date\n",
      "4      2023-09-15\n"
     ]
    }
   ],
   "source": [
    "import pandas as pd\n",
    "import re\n",
    "\n",
    "# Sample DataFrame with a datetime column\n",
    "data = {\n",
    "    'datetime_column': ['2013-08-08 10:44:15', '2023-12-25 08:30:00', '2023-09-15 14:00:00', 'Invalid Date', '2023-09-15']\n",
    "}\n",
    "\n",
    "df = pd.DataFrame(data)\n",
    "\n",
    "# Define a regex pattern for 'YYYY-MM-DD HH:MM:SS' format\n",
    "datetime_pattern = r'\\d{4}-\\d{2}-\\d{2} \\d{2}:\\d{2}:\\d{2}'\n",
    "\n",
    "# Check if the datetime values in the 'datetime_column' match the pattern\n",
    "not_in_desired_format = df[~df['datetime_column'].str.contains(datetime_pattern, na=False)]\n",
    "\n",
    "# Print the rows with datetime values not in the desired format\n",
    "print(not_in_desired_format)\n"
   ]
  },
  {
   "cell_type": "code",
   "execution_count": 6,
   "id": "51b8b75b",
   "metadata": {},
   "outputs": [
    {
     "name": "stdout",
     "output_type": "stream",
     "text": [
      "  datetime_column\n",
      "3    Invalid Date\n"
     ]
    }
   ],
   "source": [
    "import pandas as pd\n",
    "\n",
    "# Sample DataFrame with a datetime column\n",
    "data = {\n",
    "    'datetime_column': ['2013-08-08 10:44:15', '2023-12-25 08:30:00', '2023-09-15 14:00:00', 'Invalid Date', '2023-09-15']\n",
    "}\n",
    "\n",
    "df = pd.DataFrame(data)\n",
    "\n",
    "# Check if the datetime values in the 'datetime_column' can be formatted as 'YYYY-MM-DD HH:MM:SS'\n",
    "not_in_desired_format = df[df['datetime_column'].apply(lambda x: pd.to_datetime(x, errors='coerce', format='%Y-%m-%d %H:%M:%S') is pd.NaT)]\n",
    "\n",
    "# Print the rows with datetime values not in the desired format\n",
    "print(not_in_desired_format)\n"
   ]
  },
  {
   "cell_type": "code",
   "execution_count": null,
   "id": "808b99cf",
   "metadata": {},
   "outputs": [],
   "source": []
  },
  {
   "cell_type": "code",
   "execution_count": 16,
   "id": "a6254780",
   "metadata": {},
   "outputs": [
    {
     "data": {
      "text/html": [
       "<div>\n",
       "<style scoped>\n",
       "    .dataframe tbody tr th:only-of-type {\n",
       "        vertical-align: middle;\n",
       "    }\n",
       "\n",
       "    .dataframe tbody tr th {\n",
       "        vertical-align: top;\n",
       "    }\n",
       "\n",
       "    .dataframe thead th {\n",
       "        text-align: right;\n",
       "    }\n",
       "</style>\n",
       "<table border=\"1\" class=\"dataframe\">\n",
       "  <thead>\n",
       "    <tr style=\"text-align: right;\">\n",
       "      <th></th>\n",
       "      <th>id</th>\n",
       "      <th>value</th>\n",
       "      <th>datetime_column</th>\n",
       "    </tr>\n",
       "  </thead>\n",
       "  <tbody>\n",
       "    <tr>\n",
       "      <th>0</th>\n",
       "      <td>1</td>\n",
       "      <td>A</td>\n",
       "      <td>2023-01-15 08:00:00</td>\n",
       "    </tr>\n",
       "    <tr>\n",
       "      <th>1</th>\n",
       "      <td>2</td>\n",
       "      <td>B</td>\n",
       "      <td>2023-01-15 08:30:00</td>\n",
       "    </tr>\n",
       "    <tr>\n",
       "      <th>2</th>\n",
       "      <td>3</td>\n",
       "      <td>A</td>\n",
       "      <td>2023-01-15 09:00:00</td>\n",
       "    </tr>\n",
       "    <tr>\n",
       "      <th>3</th>\n",
       "      <td>4</td>\n",
       "      <td>C</td>\n",
       "      <td>2023-01-15 10:00:00</td>\n",
       "    </tr>\n",
       "    <tr>\n",
       "      <th>4</th>\n",
       "      <td>5</td>\n",
       "      <td>B</td>\n",
       "      <td>2023-01-15 11:00:00</td>\n",
       "    </tr>\n",
       "    <tr>\n",
       "      <th>5</th>\n",
       "      <td>6</td>\n",
       "      <td>D</td>\n",
       "      <td>2023-01-15 12:00:00</td>\n",
       "    </tr>\n",
       "    <tr>\n",
       "      <th>6</th>\n",
       "      <td>7</td>\n",
       "      <td>A</td>\n",
       "      <td>2023-01-15 13:00:00</td>\n",
       "    </tr>\n",
       "    <tr>\n",
       "      <th>7</th>\n",
       "      <td>8</td>\n",
       "      <td>C</td>\n",
       "      <td>2023-01-15 14:00:00</td>\n",
       "    </tr>\n",
       "  </tbody>\n",
       "</table>\n",
       "</div>"
      ],
      "text/plain": [
       "   id value      datetime_column\n",
       "0   1     A  2023-01-15 08:00:00\n",
       "1   2     B  2023-01-15 08:30:00\n",
       "2   3     A  2023-01-15 09:00:00\n",
       "3   4     C  2023-01-15 10:00:00\n",
       "4   5     B  2023-01-15 11:00:00\n",
       "5   6     D  2023-01-15 12:00:00\n",
       "6   7     A  2023-01-15 13:00:00\n",
       "7   8     C  2023-01-15 14:00:00"
      ]
     },
     "execution_count": 16,
     "metadata": {},
     "output_type": "execute_result"
    }
   ],
   "source": [
    "import pandas as pd\n",
    "\n",
    "# Sample DataFrame with a datetime column\n",
    "data = {\n",
    "    'id': [1, 2, 3, 4, 5, 6, 7, 8],\n",
    "    'value': ['A', 'B', 'A', 'C', 'B', 'D', 'A', 'C'],\n",
    "    'datetime_column': ['2023-01-15 08:00:00', '2023-01-15 08:30:00', '2023-01-15 09:00:00', '2023-01-15 10:00:00',\n",
    "                       '2023-01-15 11:00:00', '2023-01-15 12:00:00', '2023-01-15 13:00:00', '2023-01-15 14:00:00']\n",
    "}\n",
    "\n",
    "df = pd.DataFrame(data)\n",
    "\n",
    "df"
   ]
  },
  {
   "cell_type": "code",
   "execution_count": 19,
   "id": "aeeb3058",
   "metadata": {},
   "outputs": [
    {
     "name": "stdout",
     "output_type": "stream",
     "text": [
      "   id value      datetime_column\n",
      "0   8     C  2023-01-15 14:00:00\n",
      "1   7     A  2023-01-15 13:00:00\n",
      "2   6     D  2023-01-15 12:00:00\n",
      "3   5     B  2023-01-15 11:00:00\n",
      "4   4     C  2023-01-15 10:00:00\n",
      "5   3     A  2023-01-15 09:00:00\n",
      "6   2     B  2023-01-15 08:30:00\n",
      "7   1     A  2023-01-15 08:00:00\n"
     ]
    }
   ],
   "source": [
    "# # df['your_datetime_column'] = pd.to_datetime(df['your_datetime_column'])\n",
    "\n",
    "# # Sort by datetime column in descending order so latest dates come first\n",
    "# df = df.sort_values('datetime_column', ascending=False)\n",
    "\n",
    "# # Drop duplicates and keep the first one (which is the latest due to sorting)\n",
    "# df = df.drop_duplicates(keep='first')\n",
    "\n",
    "\n",
    "\n",
    "# Sort the DataFrame by \"created_at\" in descending order\n",
    "df = df.sort_values(by='datetime_column', ascending=False)\n",
    "\n",
    "# Remove duplicates based on \"created_at\" and retain the latest occurrence\n",
    "df = df.drop_duplicates(keep='first')\n",
    "\n",
    "# Reset the index if needed\n",
    "df = df.reset_index(drop=True)\n",
    "\n",
    "# Print the resulting DataFrame\n",
    "print(df)\n"
   ]
  },
  {
   "cell_type": "code",
   "execution_count": 18,
   "id": "dd26f7dc",
   "metadata": {},
   "outputs": [
    {
     "data": {
      "text/html": [
       "<div>\n",
       "<style scoped>\n",
       "    .dataframe tbody tr th:only-of-type {\n",
       "        vertical-align: middle;\n",
       "    }\n",
       "\n",
       "    .dataframe tbody tr th {\n",
       "        vertical-align: top;\n",
       "    }\n",
       "\n",
       "    .dataframe thead th {\n",
       "        text-align: right;\n",
       "    }\n",
       "</style>\n",
       "<table border=\"1\" class=\"dataframe\">\n",
       "  <thead>\n",
       "    <tr style=\"text-align: right;\">\n",
       "      <th></th>\n",
       "      <th>id</th>\n",
       "      <th>value</th>\n",
       "      <th>datetime_column</th>\n",
       "    </tr>\n",
       "  </thead>\n",
       "  <tbody>\n",
       "    <tr>\n",
       "      <th>7</th>\n",
       "      <td>8</td>\n",
       "      <td>C</td>\n",
       "      <td>2023-01-15 14:00:00</td>\n",
       "    </tr>\n",
       "    <tr>\n",
       "      <th>6</th>\n",
       "      <td>7</td>\n",
       "      <td>A</td>\n",
       "      <td>2023-01-15 13:00:00</td>\n",
       "    </tr>\n",
       "    <tr>\n",
       "      <th>5</th>\n",
       "      <td>6</td>\n",
       "      <td>D</td>\n",
       "      <td>2023-01-15 12:00:00</td>\n",
       "    </tr>\n",
       "    <tr>\n",
       "      <th>4</th>\n",
       "      <td>5</td>\n",
       "      <td>B</td>\n",
       "      <td>2023-01-15 11:00:00</td>\n",
       "    </tr>\n",
       "    <tr>\n",
       "      <th>3</th>\n",
       "      <td>4</td>\n",
       "      <td>C</td>\n",
       "      <td>2023-01-15 10:00:00</td>\n",
       "    </tr>\n",
       "    <tr>\n",
       "      <th>2</th>\n",
       "      <td>3</td>\n",
       "      <td>A</td>\n",
       "      <td>2023-01-15 09:00:00</td>\n",
       "    </tr>\n",
       "    <tr>\n",
       "      <th>1</th>\n",
       "      <td>2</td>\n",
       "      <td>B</td>\n",
       "      <td>2023-01-15 08:30:00</td>\n",
       "    </tr>\n",
       "    <tr>\n",
       "      <th>0</th>\n",
       "      <td>1</td>\n",
       "      <td>A</td>\n",
       "      <td>2023-01-15 08:00:00</td>\n",
       "    </tr>\n",
       "  </tbody>\n",
       "</table>\n",
       "</div>"
      ],
      "text/plain": [
       "   id value      datetime_column\n",
       "7   8     C  2023-01-15 14:00:00\n",
       "6   7     A  2023-01-15 13:00:00\n",
       "5   6     D  2023-01-15 12:00:00\n",
       "4   5     B  2023-01-15 11:00:00\n",
       "3   4     C  2023-01-15 10:00:00\n",
       "2   3     A  2023-01-15 09:00:00\n",
       "1   2     B  2023-01-15 08:30:00\n",
       "0   1     A  2023-01-15 08:00:00"
      ]
     },
     "execution_count": 18,
     "metadata": {},
     "output_type": "execute_result"
    }
   ],
   "source": [
    "df"
   ]
  },
  {
   "cell_type": "code",
   "execution_count": 6,
   "id": "48f37002",
   "metadata": {},
   "outputs": [
    {
     "name": "stdout",
     "output_type": "stream",
     "text": [
      "   id value     datetime_column\n",
      "0   8     C 2023-01-15 14:00:00\n",
      "1   7     A 2023-01-15 13:00:00\n",
      "2   6     D 2023-01-15 12:00:00\n",
      "3   5     B 2023-01-15 11:00:00\n"
     ]
    }
   ],
   "source": [
    "# Convert the 'datetime_column' to datetime objects\n",
    "df['datetime_column'] = pd.to_datetime(df['datetime_column'])\n",
    "\n",
    "# Sort the DataFrame by 'datetime_column' in descending order\n",
    "df = df.sort_values(by='datetime_column', ascending=False)\n",
    "\n",
    "# Remove duplicates and retain the latest occurrence\n",
    "df = df.drop_duplicates(subset='value', keep='first')\n",
    "\n",
    "# Reset the index if needed\n",
    "df = df.reset_index(drop=True)\n",
    "\n",
    "# Print the resulting DataFrame\n",
    "print(df)\n"
   ]
  },
  {
   "cell_type": "code",
   "execution_count": 9,
   "id": "eb5b2679",
   "metadata": {},
   "outputs": [
    {
     "data": {
      "text/plain": [
       "0    2023-01-15 08:00:00\n",
       "1    2023-01-15 08:30:00\n",
       "2    2023-01-15 09:00:00\n",
       "3    2023-01-15 10:00:00\n",
       "4    2023-01-15 11:00:00\n",
       "5    2023-01-15 12:00:00\n",
       "6    2023-01-15 13:00:00\n",
       "7    2023-01-15 14:00:00\n",
       "Name: datetime_column, dtype: object"
      ]
     },
     "execution_count": 9,
     "metadata": {},
     "output_type": "execute_result"
    }
   ],
   "source": [
    "df['datetime_column']"
   ]
  },
  {
   "cell_type": "code",
   "execution_count": 11,
   "id": "be64fdbd",
   "metadata": {},
   "outputs": [],
   "source": [
    "df = df.sort_values('datetime_column', ascending=False)\n",
    "\n",
    "# Drop duplicates and keep the first one (which is the latest due to sorting)\n",
    "df = df.drop_duplicates(subset='value', keep='first')"
   ]
  },
  {
   "cell_type": "code",
   "execution_count": 12,
   "id": "3d3aaaed",
   "metadata": {},
   "outputs": [
    {
     "data": {
      "text/html": [
       "<div>\n",
       "<style scoped>\n",
       "    .dataframe tbody tr th:only-of-type {\n",
       "        vertical-align: middle;\n",
       "    }\n",
       "\n",
       "    .dataframe tbody tr th {\n",
       "        vertical-align: top;\n",
       "    }\n",
       "\n",
       "    .dataframe thead th {\n",
       "        text-align: right;\n",
       "    }\n",
       "</style>\n",
       "<table border=\"1\" class=\"dataframe\">\n",
       "  <thead>\n",
       "    <tr style=\"text-align: right;\">\n",
       "      <th></th>\n",
       "      <th>id</th>\n",
       "      <th>value</th>\n",
       "      <th>datetime_column</th>\n",
       "    </tr>\n",
       "  </thead>\n",
       "  <tbody>\n",
       "    <tr>\n",
       "      <th>7</th>\n",
       "      <td>8</td>\n",
       "      <td>C</td>\n",
       "      <td>2023-01-15 14:00:00</td>\n",
       "    </tr>\n",
       "    <tr>\n",
       "      <th>6</th>\n",
       "      <td>7</td>\n",
       "      <td>A</td>\n",
       "      <td>2023-01-15 13:00:00</td>\n",
       "    </tr>\n",
       "    <tr>\n",
       "      <th>5</th>\n",
       "      <td>6</td>\n",
       "      <td>D</td>\n",
       "      <td>2023-01-15 12:00:00</td>\n",
       "    </tr>\n",
       "    <tr>\n",
       "      <th>4</th>\n",
       "      <td>5</td>\n",
       "      <td>B</td>\n",
       "      <td>2023-01-15 11:00:00</td>\n",
       "    </tr>\n",
       "  </tbody>\n",
       "</table>\n",
       "</div>"
      ],
      "text/plain": [
       "   id value      datetime_column\n",
       "7   8     C  2023-01-15 14:00:00\n",
       "6   7     A  2023-01-15 13:00:00\n",
       "5   6     D  2023-01-15 12:00:00\n",
       "4   5     B  2023-01-15 11:00:00"
      ]
     },
     "execution_count": 12,
     "metadata": {},
     "output_type": "execute_result"
    }
   ],
   "source": [
    "df"
   ]
  },
  {
   "cell_type": "code",
   "execution_count": 31,
   "id": "a13ccedb",
   "metadata": {},
   "outputs": [
    {
     "name": "stdout",
     "output_type": "stream",
     "text": [
      "name: David gender: male\n",
      "          fname     lname gender\n",
      "0        IVETTE  CASILLAS      F\n",
      "1  GracielaRios      None      F\n",
      "2          None      None   None\n",
      "3       DARRICK     BROWN      M\n",
      "4        FELKER      NITA      F\n",
      "5         David      None   male\n"
     ]
    }
   ],
   "source": [
    "import pandas as pd\n",
    "import gender_guesser.detector as gender\n",
    "\n",
    "# Sample DataFrame\n",
    "data = {\n",
    "    'fname': ['IVETTE', 'GracielaRios', None, 'DARRICK', 'FELKER', 'David'],\n",
    "    'lname': ['CASILLAS', None, None, 'BROWN', 'NITA', None],\n",
    "    'gender': ['F', 'F', None, 'M', 'F', None]\n",
    "}\n",
    "\n",
    "df = pd.DataFrame(data)\n",
    "\n",
    "# Function to predict gender based on the first name\n",
    "def predict_gender(first_name):\n",
    "    global gender\n",
    "    if first_name is None:\n",
    "        return None\n",
    "    gd = gender.Detector(case_sensitive=False)\n",
    "    gender = gd.get_gender(first_name.lower().capitalize())\n",
    "    print('name:', first_name, 'gender:', gender)\n",
    "    return gender\n",
    "\n",
    "# Update the \"gender\" column where it's None using the predict_gender function\n",
    "df['gender'] = df.apply(lambda row: predict_gender(row['fname']) if pd.isna(row['gender']) else row['gender'], axis=1)\n",
    "\n",
    "# Print the updated DataFrame\n",
    "print(df)\n"
   ]
  },
  {
   "cell_type": "code",
   "execution_count": 39,
   "id": "fffb6268",
   "metadata": {},
   "outputs": [],
   "source": [
    "import pandas as pd\n",
    "import re\n",
    "\n",
    "\n",
    "\n",
    "def process_dataframe(df):\n",
    "    for column in df.columns:\n",
    "        if df[column].dtype == 'object':\n",
    "            df[column] = df[column].apply(lambda x: re.sub(r'[^a-zA-Z0-9\\s]', '', str(x)))\n",
    "#             df[column] = df[column].apply(lambda x: pd.to_numeric(x, errors='coerce') if x.isnumeric() else x)\n",
    "            df[column] = df[column].apply(lambda x: np.nan if str(x).isdigit() else x)\n",
    "            \n",
    "        elif df[column].dtype == 'datetime64[ns]':\n",
    "            df[column] = pd.to_datetime(df[column], errors='coerce')\n",
    "\n",
    "    return df\n"
   ]
  },
  {
   "cell_type": "code",
   "execution_count": 50,
   "id": "55cd15ee",
   "metadata": {},
   "outputs": [
    {
     "name": "stdout",
     "output_type": "stream",
     "text": [
      "  string_column  int_column datetime_column\n",
      "0        abcdef         123             NaN\n",
      "1           NaN        3434             NaN\n",
      "2           NaN         789    Invalid Date\n"
     ]
    },
    {
     "data": {
      "text/plain": [
       "0          2023-01-15\n",
       "1          2022-12-31\n",
       "2        Invalid Date\n",
       "3    12.34312.3434.23\n",
       "4              543453\n",
       "Name: datetime_column, dtype: object"
      ]
     },
     "execution_count": 50,
     "metadata": {},
     "output_type": "execute_result"
    }
   ],
   "source": [
    "# Sample DataFrame\n",
    "data = {\n",
    "    'string_column': ['abc!def', '123', '456', '456', '456'],\n",
    "    'int_column': [123, 3434, 789, 789, 789],\n",
    "    'datetime_column': ['2023-01-15', '2022-12-31', 'Invalid Date', '12.34312.3434.23', '543453']\n",
    "}\n",
    "\n",
    "df = pd.DataFrame(data)\n",
    "# df['int_column'] = df['int_column'].astype('int')\n",
    "# Process the DataFrame\n",
    "# processed_df = process_dataframe(df)\n",
    "\n",
    "# Print the processed DataFrame\n",
    "print(processed_df)\n",
    "df['datetime_column']"
   ]
  },
  {
   "cell_type": "code",
   "execution_count": 56,
   "id": "10f4dd67",
   "metadata": {},
   "outputs": [
    {
     "ename": "AttributeError",
     "evalue": "'str' object has no attribute 'decode'",
     "output_type": "error",
     "traceback": [
      "\u001b[0;31m---------------------------------------------------------------------------\u001b[0m",
      "\u001b[0;31mAttributeError\u001b[0m                            Traceback (most recent call last)",
      "Cell \u001b[0;32mIn[56], line 13\u001b[0m\n\u001b[1;32m     10\u001b[0m df \u001b[38;5;241m=\u001b[39m pd\u001b[38;5;241m.\u001b[39mDataFrame(data)\n\u001b[1;32m     12\u001b[0m \u001b[38;5;66;03m# Initialize the gender detector\u001b[39;00m\n\u001b[0;32m---> 13\u001b[0m d \u001b[38;5;241m=\u001b[39m gender\u001b[38;5;241m.\u001b[39mDetector()\n\u001b[1;32m     15\u001b[0m \u001b[38;5;66;03m# Function to predict gender for a DataFrame column\u001b[39;00m\n\u001b[1;32m     16\u001b[0m \u001b[38;5;28;01mdef\u001b[39;00m \u001b[38;5;21mpredict_gender_from_df\u001b[39m(df, column_name):\n",
      "File \u001b[0;32m~/anaconda3/lib/python3.11/site-packages/sexmachine/detector.py:31\u001b[0m, in \u001b[0;36mDetector.__init__\u001b[0;34m(self, case_sensitive, unknown_value)\u001b[0m\n\u001b[1;32m     29\u001b[0m \u001b[38;5;28mself\u001b[39m\u001b[38;5;241m.\u001b[39mcase_sensitive \u001b[38;5;241m=\u001b[39m case_sensitive\n\u001b[1;32m     30\u001b[0m \u001b[38;5;28mself\u001b[39m\u001b[38;5;241m.\u001b[39munknown_value \u001b[38;5;241m=\u001b[39m unknown_value\n\u001b[0;32m---> 31\u001b[0m \u001b[38;5;28mself\u001b[39m\u001b[38;5;241m.\u001b[39m_parse(os\u001b[38;5;241m.\u001b[39mpath\u001b[38;5;241m.\u001b[39mjoin(os\u001b[38;5;241m.\u001b[39mpath\u001b[38;5;241m.\u001b[39mdirname(\u001b[38;5;18m__file__\u001b[39m), \u001b[38;5;124m\"\u001b[39m\u001b[38;5;124mdata/nam_dict.txt\u001b[39m\u001b[38;5;124m\"\u001b[39m))\n",
      "File \u001b[0;32m~/anaconda3/lib/python3.11/site-packages/sexmachine/detector.py:40\u001b[0m, in \u001b[0;36mDetector._parse\u001b[0;34m(self, filename)\u001b[0m\n\u001b[1;32m     38\u001b[0m \u001b[38;5;28;01mif\u001b[39;00m \u001b[38;5;28many\u001b[39m(\u001b[38;5;28mmap\u001b[39m(\u001b[38;5;28;01mlambda\u001b[39;00m c: \u001b[38;5;241m128\u001b[39m \u001b[38;5;241m<\u001b[39m \u001b[38;5;28mord\u001b[39m(c) \u001b[38;5;241m<\u001b[39m \u001b[38;5;241m160\u001b[39m, line)):\n\u001b[1;32m     39\u001b[0m     line \u001b[38;5;241m=\u001b[39m line\u001b[38;5;241m.\u001b[39mencode(\u001b[38;5;124m\"\u001b[39m\u001b[38;5;124miso8859-1\u001b[39m\u001b[38;5;124m\"\u001b[39m)\u001b[38;5;241m.\u001b[39mdecode(\u001b[38;5;124m\"\u001b[39m\u001b[38;5;124mwindows-1252\u001b[39m\u001b[38;5;124m\"\u001b[39m)\n\u001b[0;32m---> 40\u001b[0m \u001b[38;5;28mself\u001b[39m\u001b[38;5;241m.\u001b[39m_eat_name_line(line\u001b[38;5;241m.\u001b[39mstrip())\n",
      "File \u001b[0;32m~/anaconda3/lib/python3.11/site-packages/sexmachine/detector.py:47\u001b[0m, in \u001b[0;36mDetector._eat_name_line\u001b[0;34m(self, line)\u001b[0m\n\u001b[1;32m     45\u001b[0m parts \u001b[38;5;241m=\u001b[39m line\u001b[38;5;241m.\u001b[39msplit()\n\u001b[1;32m     46\u001b[0m country_values \u001b[38;5;241m=\u001b[39m line[\u001b[38;5;241m30\u001b[39m:\u001b[38;5;241m-\u001b[39m\u001b[38;5;241m1\u001b[39m]\n\u001b[0;32m---> 47\u001b[0m name \u001b[38;5;241m=\u001b[39m map_name(parts[\u001b[38;5;241m1\u001b[39m])\n\u001b[1;32m     48\u001b[0m \u001b[38;5;28;01mif\u001b[39;00m \u001b[38;5;129;01mnot\u001b[39;00m \u001b[38;5;28mself\u001b[39m\u001b[38;5;241m.\u001b[39mcase_sensitive:\n\u001b[1;32m     49\u001b[0m     name \u001b[38;5;241m=\u001b[39m name\u001b[38;5;241m.\u001b[39mlower()\n",
      "File \u001b[0;32m~/anaconda3/lib/python3.11/site-packages/sexmachine/mapping.py:75\u001b[0m, in \u001b[0;36mmap_name\u001b[0;34m(u)\u001b[0m\n\u001b[1;32m     73\u001b[0m \u001b[38;5;28;01mfor\u001b[39;00m code, patterns \u001b[38;5;129;01min\u001b[39;00m mappings:\n\u001b[1;32m     74\u001b[0m     \u001b[38;5;28;01mfor\u001b[39;00m pattern \u001b[38;5;129;01min\u001b[39;00m patterns:\n\u001b[0;32m---> 75\u001b[0m         u \u001b[38;5;241m=\u001b[39m u\u001b[38;5;241m.\u001b[39mreplace(pattern\u001b[38;5;241m.\u001b[39mdecode(\u001b[38;5;124m\"\u001b[39m\u001b[38;5;124mutf-8\u001b[39m\u001b[38;5;124m\"\u001b[39m), unichr(code))\n\u001b[1;32m     76\u001b[0m \u001b[38;5;28;01mreturn\u001b[39;00m u\n",
      "\u001b[0;31mAttributeError\u001b[0m: 'str' object has no attribute 'decode'"
     ]
    }
   ],
   "source": [
    "import pandas as pd\n",
    "# import gender_guesser.detector as gender\n",
    "import sexmachine.detector as gender\n",
    "\n",
    "# Sample data\n",
    "data = {\n",
    "    'fname': [None, None, None, None, 'May', 'kaitlin', 'kaitlin', 'kaitlin', 'Marco', 'raymond']\n",
    "}\n",
    "\n",
    "df = pd.DataFrame(data)\n",
    "\n",
    "# Initialize the gender detector\n",
    "d = gender.Detector()\n",
    "\n",
    "# Function to predict gender for a DataFrame column\n",
    "def predict_gender_from_df(df, column_name):\n",
    "    predicted_genders = []\n",
    "    for fname in df[column_name]:\n",
    "        if fname is None:\n",
    "            predicted_genders.append(None)\n",
    "        else:\n",
    "            gender_prediction = d.get_gender(fname)\n",
    "            if gender_prediction in ['male', 'female', 'mostly_male', 'mostly_female']:\n",
    "                predicted_genders.append(gender_prediction)\n",
    "            else:\n",
    "                predicted_genders.append(None)\n",
    "    \n",
    "    return predicted_genders\n",
    "\n",
    "# Add the predicted genders to the DataFrame\n",
    "df['predicted_gender'] = predict_gender_from_df(df, 'fname')\n",
    "\n",
    "# Display the DataFrame with predicted genders\n",
    "print(df)\n"
   ]
  },
  {
   "cell_type": "code",
   "execution_count": 55,
   "id": "395437a8",
   "metadata": {},
   "outputs": [
    {
     "name": "stdout",
     "output_type": "stream",
     "text": [
      "Collecting SexMachine\n",
      "  Downloading SexMachine-0.1.1.tar.gz (336 kB)\n",
      "\u001b[2K     \u001b[90m━━━━━━━━━━━━━━━━━━━━━━━━━━━━━━━━━━━━━━━\u001b[0m \u001b[32m336.4/336.4 kB\u001b[0m \u001b[31m2.7 MB/s\u001b[0m eta \u001b[36m0:00:00\u001b[0ma \u001b[36m0:00:01\u001b[0m\n",
      "\u001b[?25h  Preparing metadata (setup.py) ... \u001b[?25ldone\n",
      "\u001b[?25hBuilding wheels for collected packages: SexMachine\n",
      "  Building wheel for SexMachine (setup.py) ... \u001b[?25ldone\n",
      "\u001b[?25h  Created wheel for SexMachine: filename=SexMachine-0.1.1-py3-none-any.whl size=379441 sha256=bec5f93ae4066352bbd1bb6ddfccf8e5c3c3170d7fc67b93462f996898f226bc\n",
      "  Stored in directory: /home/user/data_science/m.osama/.cache/pip/wheels/04/b5/d0/59428a0dd67a75a0c120a72bb7fef826f11ec744ae7905bb04\n",
      "Successfully built SexMachine\n",
      "Installing collected packages: SexMachine\n",
      "Successfully installed SexMachine-0.1.1\n",
      "Note: you may need to restart the kernel to use updated packages.\n"
     ]
    }
   ],
   "source": [
    "pip install SexMachine"
   ]
  },
  {
   "cell_type": "code",
   "execution_count": 94,
   "id": "6184ea99",
   "metadata": {},
   "outputs": [
    {
     "ename": "AttributeError",
     "evalue": "'str' object has no attribute 'decode'",
     "output_type": "error",
     "traceback": [
      "\u001b[0;31m---------------------------------------------------------------------------\u001b[0m",
      "\u001b[0;31mAttributeError\u001b[0m                            Traceback (most recent call last)",
      "Cell \u001b[0;32mIn[94], line 3\u001b[0m\n\u001b[1;32m      1\u001b[0m \u001b[38;5;28;01mimport\u001b[39;00m \u001b[38;5;21;01msexmachine\u001b[39;00m\u001b[38;5;21;01m.\u001b[39;00m\u001b[38;5;21;01mdetector\u001b[39;00m \u001b[38;5;28;01mas\u001b[39;00m \u001b[38;5;21;01mgender\u001b[39;00m\n\u001b[0;32m----> 3\u001b[0m d \u001b[38;5;241m=\u001b[39m gender\u001b[38;5;241m.\u001b[39mDetector()\n",
      "File \u001b[0;32m~/anaconda3/lib/python3.11/site-packages/sexmachine/detector.py:31\u001b[0m, in \u001b[0;36mDetector.__init__\u001b[0;34m(self, case_sensitive, unknown_value)\u001b[0m\n\u001b[1;32m     29\u001b[0m \u001b[38;5;28mself\u001b[39m\u001b[38;5;241m.\u001b[39mcase_sensitive \u001b[38;5;241m=\u001b[39m case_sensitive\n\u001b[1;32m     30\u001b[0m \u001b[38;5;28mself\u001b[39m\u001b[38;5;241m.\u001b[39munknown_value \u001b[38;5;241m=\u001b[39m unknown_value\n\u001b[0;32m---> 31\u001b[0m \u001b[38;5;28mself\u001b[39m\u001b[38;5;241m.\u001b[39m_parse(os\u001b[38;5;241m.\u001b[39mpath\u001b[38;5;241m.\u001b[39mjoin(os\u001b[38;5;241m.\u001b[39mpath\u001b[38;5;241m.\u001b[39mdirname(\u001b[38;5;18m__file__\u001b[39m), \u001b[38;5;124m\"\u001b[39m\u001b[38;5;124mdata/nam_dict.txt\u001b[39m\u001b[38;5;124m\"\u001b[39m))\n",
      "File \u001b[0;32m~/anaconda3/lib/python3.11/site-packages/sexmachine/detector.py:40\u001b[0m, in \u001b[0;36mDetector._parse\u001b[0;34m(self, filename)\u001b[0m\n\u001b[1;32m     38\u001b[0m \u001b[38;5;28;01mif\u001b[39;00m \u001b[38;5;28many\u001b[39m(\u001b[38;5;28mmap\u001b[39m(\u001b[38;5;28;01mlambda\u001b[39;00m c: \u001b[38;5;241m128\u001b[39m \u001b[38;5;241m<\u001b[39m \u001b[38;5;28mord\u001b[39m(c) \u001b[38;5;241m<\u001b[39m \u001b[38;5;241m160\u001b[39m, line)):\n\u001b[1;32m     39\u001b[0m     line \u001b[38;5;241m=\u001b[39m line\u001b[38;5;241m.\u001b[39mencode(\u001b[38;5;124m\"\u001b[39m\u001b[38;5;124miso8859-1\u001b[39m\u001b[38;5;124m\"\u001b[39m)\u001b[38;5;241m.\u001b[39mdecode(\u001b[38;5;124m\"\u001b[39m\u001b[38;5;124mwindows-1252\u001b[39m\u001b[38;5;124m\"\u001b[39m)\n\u001b[0;32m---> 40\u001b[0m \u001b[38;5;28mself\u001b[39m\u001b[38;5;241m.\u001b[39m_eat_name_line(line\u001b[38;5;241m.\u001b[39mstrip())\n",
      "File \u001b[0;32m~/anaconda3/lib/python3.11/site-packages/sexmachine/detector.py:47\u001b[0m, in \u001b[0;36mDetector._eat_name_line\u001b[0;34m(self, line)\u001b[0m\n\u001b[1;32m     45\u001b[0m parts \u001b[38;5;241m=\u001b[39m line\u001b[38;5;241m.\u001b[39msplit()\n\u001b[1;32m     46\u001b[0m country_values \u001b[38;5;241m=\u001b[39m line[\u001b[38;5;241m30\u001b[39m:\u001b[38;5;241m-\u001b[39m\u001b[38;5;241m1\u001b[39m]\n\u001b[0;32m---> 47\u001b[0m name \u001b[38;5;241m=\u001b[39m map_name(parts[\u001b[38;5;241m1\u001b[39m])\n\u001b[1;32m     48\u001b[0m \u001b[38;5;28;01mif\u001b[39;00m \u001b[38;5;129;01mnot\u001b[39;00m \u001b[38;5;28mself\u001b[39m\u001b[38;5;241m.\u001b[39mcase_sensitive:\n\u001b[1;32m     49\u001b[0m     name \u001b[38;5;241m=\u001b[39m name\u001b[38;5;241m.\u001b[39mlower()\n",
      "File \u001b[0;32m~/anaconda3/lib/python3.11/site-packages/sexmachine/mapping.py:75\u001b[0m, in \u001b[0;36mmap_name\u001b[0;34m(u)\u001b[0m\n\u001b[1;32m     73\u001b[0m \u001b[38;5;28;01mfor\u001b[39;00m code, patterns \u001b[38;5;129;01min\u001b[39;00m mappings:\n\u001b[1;32m     74\u001b[0m     \u001b[38;5;28;01mfor\u001b[39;00m pattern \u001b[38;5;129;01min\u001b[39;00m patterns:\n\u001b[0;32m---> 75\u001b[0m         u \u001b[38;5;241m=\u001b[39m u\u001b[38;5;241m.\u001b[39mreplace(pattern\u001b[38;5;241m.\u001b[39mdecode(\u001b[38;5;124m\"\u001b[39m\u001b[38;5;124mutf-8\u001b[39m\u001b[38;5;124m\"\u001b[39m), unichr(code))\n\u001b[1;32m     76\u001b[0m \u001b[38;5;28;01mreturn\u001b[39;00m u\n",
      "\u001b[0;31mAttributeError\u001b[0m: 'str' object has no attribute 'decode'"
     ]
    }
   ],
   "source": [
    "import sexmachine.detector as gender\n",
    "\n",
    "d = gender.Detector()"
   ]
  },
  {
   "cell_type": "code",
   "execution_count": 97,
   "id": "9fa02a20",
   "metadata": {},
   "outputs": [
    {
     "name": "stdout",
     "output_type": "stream",
     "text": [
      "Mark male\n",
      "Paul male\n",
      "Dwayne male\n",
      "Quinetta unknown\n",
      "Jayson male\n",
      "Gary male\n"
     ]
    }
   ],
   "source": [
    "\n",
    "l = ['mark', 'paul', 'Dwayne', 'QUINETTA', 'Jayson', 'Gary']\n",
    "for i in l:\n",
    "    print(i.lower().capitalize(), d.get_gender(i.lower().capitalize()))\n",
    "#     d.get_gender(u\"paul\")"
   ]
  },
  {
   "cell_type": "code",
   "execution_count": 67,
   "id": "40f8441e",
   "metadata": {},
   "outputs": [
    {
     "data": {
      "text/plain": [
       "<function str.capitalize()>"
      ]
     },
     "execution_count": 67,
     "metadata": {},
     "output_type": "execute_result"
    }
   ],
   "source": [
    "l[0].capitalize()"
   ]
  },
  {
   "cell_type": "markdown",
   "id": "5cb3c5d5",
   "metadata": {},
   "source": [
    "# using sexmachine"
   ]
  },
  {
   "cell_type": "code",
   "execution_count": 79,
   "id": "c11ef3d1",
   "metadata": {},
   "outputs": [
    {
     "ename": "AttributeError",
     "evalue": "'str' object has no attribute 'decode'",
     "output_type": "error",
     "traceback": [
      "\u001b[0;31m---------------------------------------------------------------------------\u001b[0m",
      "\u001b[0;31mAttributeError\u001b[0m                            Traceback (most recent call last)",
      "Cell \u001b[0;32mIn[79], line 4\u001b[0m\n\u001b[1;32m      1\u001b[0m \u001b[38;5;28;01mimport\u001b[39;00m \u001b[38;5;21;01mpandas\u001b[39;00m \u001b[38;5;28;01mas\u001b[39;00m \u001b[38;5;21;01mpd\u001b[39;00m\n\u001b[1;32m      2\u001b[0m \u001b[38;5;28;01mimport\u001b[39;00m \u001b[38;5;21;01msexmachine\u001b[39;00m\u001b[38;5;21;01m.\u001b[39;00m\u001b[38;5;21;01mdetector\u001b[39;00m \u001b[38;5;28;01mas\u001b[39;00m \u001b[38;5;21;01mgender\u001b[39;00m\n\u001b[0;32m----> 4\u001b[0m d \u001b[38;5;241m=\u001b[39m gender\u001b[38;5;241m.\u001b[39mDetector()\n\u001b[1;32m      5\u001b[0m \u001b[38;5;66;03m# Sample DataFrame\u001b[39;00m\n\u001b[1;32m      6\u001b[0m data \u001b[38;5;241m=\u001b[39m {\n\u001b[1;32m      7\u001b[0m     \u001b[38;5;124m'\u001b[39m\u001b[38;5;124mcolumn_name\u001b[39m\u001b[38;5;124m'\u001b[39m: [\u001b[38;5;124m'\u001b[39m\u001b[38;5;124mvalue1\u001b[39m\u001b[38;5;124m'\u001b[39m, \u001b[38;5;124m'\u001b[39m\u001b[38;5;124mnan\u001b[39m\u001b[38;5;124m'\u001b[39m, \u001b[38;5;124m'\u001b[39m\u001b[38;5;124mvalue2\u001b[39m\u001b[38;5;124m'\u001b[39m, \u001b[38;5;124m'\u001b[39m\u001b[38;5;124mnan\u001b[39m\u001b[38;5;124m'\u001b[39m, \u001b[38;5;124m'\u001b[39m\u001b[38;5;124mvalue3\u001b[39m\u001b[38;5;124m'\u001b[39m]\n\u001b[1;32m      8\u001b[0m }\n",
      "File \u001b[0;32m~/anaconda3/lib/python3.11/site-packages/sexmachine/detector.py:31\u001b[0m, in \u001b[0;36mDetector.__init__\u001b[0;34m(self, case_sensitive, unknown_value)\u001b[0m\n\u001b[1;32m     29\u001b[0m \u001b[38;5;28mself\u001b[39m\u001b[38;5;241m.\u001b[39mcase_sensitive \u001b[38;5;241m=\u001b[39m case_sensitive\n\u001b[1;32m     30\u001b[0m \u001b[38;5;28mself\u001b[39m\u001b[38;5;241m.\u001b[39munknown_value \u001b[38;5;241m=\u001b[39m unknown_value\n\u001b[0;32m---> 31\u001b[0m \u001b[38;5;28mself\u001b[39m\u001b[38;5;241m.\u001b[39m_parse(os\u001b[38;5;241m.\u001b[39mpath\u001b[38;5;241m.\u001b[39mjoin(os\u001b[38;5;241m.\u001b[39mpath\u001b[38;5;241m.\u001b[39mdirname(\u001b[38;5;18m__file__\u001b[39m), \u001b[38;5;124m\"\u001b[39m\u001b[38;5;124mdata/nam_dict.txt\u001b[39m\u001b[38;5;124m\"\u001b[39m))\n",
      "File \u001b[0;32m~/anaconda3/lib/python3.11/site-packages/sexmachine/detector.py:40\u001b[0m, in \u001b[0;36mDetector._parse\u001b[0;34m(self, filename)\u001b[0m\n\u001b[1;32m     38\u001b[0m \u001b[38;5;28;01mif\u001b[39;00m \u001b[38;5;28many\u001b[39m(\u001b[38;5;28mmap\u001b[39m(\u001b[38;5;28;01mlambda\u001b[39;00m c: \u001b[38;5;241m128\u001b[39m \u001b[38;5;241m<\u001b[39m \u001b[38;5;28mord\u001b[39m(c) \u001b[38;5;241m<\u001b[39m \u001b[38;5;241m160\u001b[39m, line)):\n\u001b[1;32m     39\u001b[0m     line \u001b[38;5;241m=\u001b[39m line\u001b[38;5;241m.\u001b[39mencode(\u001b[38;5;124m\"\u001b[39m\u001b[38;5;124miso8859-1\u001b[39m\u001b[38;5;124m\"\u001b[39m)\u001b[38;5;241m.\u001b[39mdecode(\u001b[38;5;124m\"\u001b[39m\u001b[38;5;124mwindows-1252\u001b[39m\u001b[38;5;124m\"\u001b[39m)\n\u001b[0;32m---> 40\u001b[0m \u001b[38;5;28mself\u001b[39m\u001b[38;5;241m.\u001b[39m_eat_name_line(line\u001b[38;5;241m.\u001b[39mstrip())\n",
      "File \u001b[0;32m~/anaconda3/lib/python3.11/site-packages/sexmachine/detector.py:47\u001b[0m, in \u001b[0;36mDetector._eat_name_line\u001b[0;34m(self, line)\u001b[0m\n\u001b[1;32m     45\u001b[0m parts \u001b[38;5;241m=\u001b[39m line\u001b[38;5;241m.\u001b[39msplit()\n\u001b[1;32m     46\u001b[0m country_values \u001b[38;5;241m=\u001b[39m line[\u001b[38;5;241m30\u001b[39m:\u001b[38;5;241m-\u001b[39m\u001b[38;5;241m1\u001b[39m]\n\u001b[0;32m---> 47\u001b[0m name \u001b[38;5;241m=\u001b[39m map_name(parts[\u001b[38;5;241m1\u001b[39m])\n\u001b[1;32m     48\u001b[0m \u001b[38;5;28;01mif\u001b[39;00m \u001b[38;5;129;01mnot\u001b[39;00m \u001b[38;5;28mself\u001b[39m\u001b[38;5;241m.\u001b[39mcase_sensitive:\n\u001b[1;32m     49\u001b[0m     name \u001b[38;5;241m=\u001b[39m name\u001b[38;5;241m.\u001b[39mlower()\n",
      "File \u001b[0;32m~/anaconda3/lib/python3.11/site-packages/sexmachine/mapping.py:75\u001b[0m, in \u001b[0;36mmap_name\u001b[0;34m(u)\u001b[0m\n\u001b[1;32m     73\u001b[0m \u001b[38;5;28;01mfor\u001b[39;00m code, patterns \u001b[38;5;129;01min\u001b[39;00m mappings:\n\u001b[1;32m     74\u001b[0m     \u001b[38;5;28;01mfor\u001b[39;00m pattern \u001b[38;5;129;01min\u001b[39;00m patterns:\n\u001b[0;32m---> 75\u001b[0m         u \u001b[38;5;241m=\u001b[39m u\u001b[38;5;241m.\u001b[39mreplace(pattern\u001b[38;5;241m.\u001b[39mdecode(\u001b[38;5;124m\"\u001b[39m\u001b[38;5;124mutf-8\u001b[39m\u001b[38;5;124m\"\u001b[39m), unichr(code))\n\u001b[1;32m     76\u001b[0m \u001b[38;5;28;01mreturn\u001b[39;00m u\n",
      "\u001b[0;31mAttributeError\u001b[0m: 'str' object has no attribute 'decode'"
     ]
    }
   ],
   "source": [
    "import pandas as pd\n",
    "\n",
    "# Sample DataFrame\n",
    "data = {\n",
    "    'column_name': ['value1', 'nan', 'value2', 'nan', 'value3']\n",
    "}\n",
    "\n",
    "df = pd.DataFrame(data)\n",
    "\n",
    "# Replace 'nan' with None in the specified column\n",
    "column_to_check = 'column_name'\n",
    "df[column_to_check] = df[column_to_check].apply(lambda x: None if x == 'nan' else x)\n",
    "\n",
    "# Print the updated DataFrame\n",
    "print(df)\n"
   ]
  },
  {
   "cell_type": "code",
   "execution_count": 96,
   "id": "ad3065aa",
   "metadata": {},
   "outputs": [
    {
     "name": "stdout",
     "output_type": "stream",
     "text": [
      "name:  None\n",
      "rows done:  0\n",
      "name:  CYNTHIA\n",
      " ----predicted:  female\n",
      "rows done:  1\n",
      "name:  May\n",
      " ----predicted:  female\n",
      "rows done:  2\n",
      "name:  MARIEPAULE\n",
      "rows done:  3\n",
      "name:  Andrea\n",
      " ----predicted:  female\n",
      "rows done:  4\n",
      "name:  MELISSA\n",
      " ----predicted:  female\n",
      "rows done:  5\n",
      "        fname       lname gender predicted_gender\n",
      "0        None        None   None             None\n",
      "1     CYNTHIA     LENOARD      F                F\n",
      "2         May   Nicholson      F                F\n",
      "3  MARIEPAULE      WILLEM      M             None\n",
      "4      Andrea  Richardson      F                F\n",
      "5     MELISSA       FELAN   None                F\n"
     ]
    }
   ],
   "source": [
    "from genderize import Genderize\n",
    "\n",
    "# Create a Genderize instance\n",
    "genderize = Genderize()\n",
    "\n",
    "def predict_gender_from_df(df, column_name):\n",
    "    count = 0\n",
    "    predicted_genders = []\n",
    "    for fname in df[column_name]:\n",
    "        print('name: ', fname)\n",
    "        \n",
    "        if fname is None:\n",
    "            predicted_genders.append(None)\n",
    "        else:\n",
    "            gender_prediction = d.get_gender(fname.lower().capitalize())\n",
    "            gen = ''\n",
    "            if gender_prediction == 'male':\n",
    "                gen = \"M\" \n",
    "                predicted_genders.append(gen)\n",
    "                print(' ----predicted: ', gender_prediction)\n",
    "            elif gender_prediction == 'female':\n",
    "                gen = \"F\"\n",
    "                predicted_genders.append(gen)\n",
    "                print(' ----predicted: ', gender_prediction)\n",
    "            else:\n",
    "                predicted_genders.append(None)\n",
    "        print('rows done: ', count)\n",
    "        count +=1\n",
    "    \n",
    "    return predicted_genders\n",
    "\n",
    "\n",
    "# Sample DataFrame\n",
    "data = {\n",
    "    'fname': [None, 'CYNTHIA', 'May', 'MARIEPAULE', 'Andrea', 'MELISSA'],\n",
    "    'lname': [None, 'LENOARD', 'Nicholson', 'WILLEM', 'Richardson', 'FELAN'],\n",
    "    'gender': [None, 'F', 'F', 'M', 'F', None]\n",
    "}\n",
    "\n",
    "df = pd.DataFrame(data)\n",
    "\n",
    "# Add a new column with predicted genders\n",
    "df['predicted_gender'] = predict_gender_from_df(df, 'fname')\n",
    "\n",
    "# Print the updated DataFrame\n",
    "print(df)\n"
   ]
  },
  {
   "cell_type": "code",
   "execution_count": null,
   "id": "57fab595",
   "metadata": {},
   "outputs": [],
   "source": []
  },
  {
   "cell_type": "code",
   "execution_count": 98,
   "id": "919db826",
   "metadata": {},
   "outputs": [
    {
     "name": "stdout",
     "output_type": "stream",
     "text": [
      "Before replacement:\n",
      "                  column_name\n",
      "0          http://example.com\n",
      "1             www.example.com\n",
      "2         No http or www here\n",
      "3  http://another-example.com\n",
      "4        Just a normal string\n",
      "\n",
      "After replacement:\n",
      "                  column_name\n",
      "0          http://example.com\n",
      "1             www.example.com\n",
      "2         No http or www here\n",
      "3  http://another-example.com\n",
      "4        Just a normal string\n"
     ]
    }
   ],
   "source": [
    "import pandas as pd\n",
    "import numpy as np\n",
    "\n",
    "# Create a dummy DataFrame\n",
    "data = {'column_name': ['http://example.com', 'www.example.com', 'No http or www here', 'http://another-example.com', 'Just a normal string']}\n",
    "df = pd.DataFrame(data)\n",
    "\n",
    "print(\"Before replacement:\")\n",
    "print(df)\n",
    "\n",
    "# Replace strings containing 'http' or 'www' with None\n",
    "df['column_name'] = df['column_name'].replace(r'http\\\\S+|www.\\\\S+', np.nan, regex=True)\n",
    "\n",
    "print(\"\\nAfter replacement:\")\n",
    "print(df)\n"
   ]
  },
  {
   "cell_type": "code",
   "execution_count": 105,
   "id": "fe6eee4c",
   "metadata": {},
   "outputs": [
    {
     "name": "stdout",
     "output_type": "stream",
     "text": [
      "Before replacement:\n",
      "                  column_name\n",
      "0          http://example.com\n",
      "1             www.example.com\n",
      "2         No http or www here\n",
      "3  http://another-example.com\n",
      "4        Just a normal string\n",
      "5                        None\n",
      "\n",
      "After replacement:\n",
      "            column_name\n",
      "0                  None\n",
      "1                  None\n",
      "2                  None\n",
      "3                  None\n",
      "4  Just a normal string\n",
      "5                  None\n"
     ]
    }
   ],
   "source": [
    "import pandas as pd\n",
    "import numpy as np\n",
    "\n",
    "# Create a dummy DataFrame\n",
    "data = {'column_name': ['http://example.com', 'www.example.com', 'No http or www here', 'http://another-example.com', 'Just a normal string', None]}\n",
    "df = pd.DataFrame(data)\n",
    "\n",
    "print(\"Before replacement:\")\n",
    "print(df)\n",
    "\n",
    "# Replace strings containing 'http' or 'www' with None\n",
    "df['column_name'] = df['column_name'].apply(lambda x: None if x is not None and any(substring in x for substring in ['http', 'www']) else x)\n",
    "\n",
    "print(\"\\nAfter replacement:\")\n",
    "print(df)\n"
   ]
  },
  {
   "cell_type": "code",
   "execution_count": 109,
   "id": "245edbee",
   "metadata": {},
   "outputs": [
    {
     "name": "stdout",
     "output_type": "stream",
     "text": [
      "     ip_address\n",
      "0  12.123.12.23\n",
      "1  123.12.12.23\n",
      "2  12.23.123.23\n",
      "3  12.23.12.235\n"
     ]
    }
   ],
   "source": [
    "import pandas as pd\n",
    "\n",
    "# Sample DataFrame\n",
    "data = {\n",
    "    'ip_address': ['12.123.12.23', '123.12.12.23', '12.23.123.23', '12.23.12.235', '12.23.12.235.235']\n",
    "}\n",
    "\n",
    "df = pd.DataFrame(data)\n",
    "\n",
    "# Define a regular expression pattern for valid IP formats\n",
    "pattern = r'^(12\\.123\\.12\\.23|123\\.12\\.12\\.23|12\\.23\\.123\\.23|12\\.23\\.12\\.235)$'\n",
    "\n",
    "# Check if the 'ip_address' column does not match the valid IP pattern\n",
    "invalid_ips = df[df['ip_address'].str.match(pattern)]\n",
    "\n",
    "# Print the rows with invalid IP formats\n",
    "print(invalid_ips)\n"
   ]
  },
  {
   "cell_type": "code",
   "execution_count": 110,
   "id": "9062f40f",
   "metadata": {},
   "outputs": [
    {
     "name": "stdout",
     "output_type": "stream",
     "text": [
      "     ip_address\n",
      "0  12.123.12.23\n",
      "1  123.12.12.23\n",
      "2  12.23.123.23\n",
      "3  12.23.12.235\n",
      "4           NaN\n"
     ]
    }
   ],
   "source": [
    "import pandas as pd\n",
    "import numpy as np\n",
    "import re\n",
    "\n",
    "# Sample DataFrame\n",
    "data = {\n",
    "        'ip_address': ['12.123.12.23', '123.12.12.23', '12.23.123.23', '12.23.12.235', '12.23.12.235.235']\n",
    "\n",
    "}\n",
    "\n",
    "df = pd.DataFrame(data)\n",
    "\n",
    "# Define a regular expression pattern for valid IP formats\n",
    "pattern = r'^(12\\.123\\.12\\.23|123\\.12\\.12\\.23|12\\.23\\.123\\.23|12\\.23\\.12\\.235)$'\n",
    "\n",
    "# Function to check the format and replace with NaN if not valid\n",
    "def validate_ip(value):\n",
    "    if re.match(pattern, value):\n",
    "        return value\n",
    "    else:\n",
    "        return np.nan\n",
    "\n",
    "# Apply the function to the 'ip_address' column\n",
    "df['ip_address'] = df['ip_address'].apply(validate_ip)\n",
    "\n",
    "# Print the updated DataFrame\n",
    "print(df)\n"
   ]
  },
  {
   "cell_type": "code",
   "execution_count": 111,
   "id": "e42fcffc",
   "metadata": {},
   "outputs": [
    {
     "name": "stdout",
     "output_type": "stream",
     "text": [
      "     ip_address\n",
      "0  12.123.12.23\n",
      "1  123.12.12.23\n",
      "2  12.23.123.23\n",
      "3  12.23.12.235\n",
      "4           NaN\n"
     ]
    }
   ],
   "source": [
    "import pandas as pd\n",
    "import numpy as np\n",
    "import re\n",
    "\n",
    "# Sample DataFrame\n",
    "data = {\n",
    "    'ip_address': ['12.123.12.23', '123.12.12.23', '12.23.123.23', '12.23.12.235', 'invalid_ip']\n",
    "}\n",
    "\n",
    "df = pd.DataFrame(data)\n",
    "\n",
    "# Define a regular expression pattern for valid IP formats\n",
    "pattern = r'^(12\\.123\\.12\\.23|123\\.12\\.12\\.23|12\\.23\\.123\\.23|12\\.23\\.12\\.235)$'\n",
    "\n",
    "# Use a lambda function with apply to check the format and replace with NaN if not valid\n",
    "df['ip_address'] = df['ip_address'].apply(lambda x: x if re.match(pattern, x) else np.nan)\n",
    "\n",
    "# Print the updated DataFrame\n",
    "print(df)\n"
   ]
  },
  {
   "cell_type": "markdown",
   "id": "c854872f",
   "metadata": {},
   "source": [
    "## check invalid ip format"
   ]
  },
  {
   "cell_type": "code",
   "execution_count": 9,
   "id": "eff8840b",
   "metadata": {},
   "outputs": [
    {
     "name": "stdout",
     "output_type": "stream",
     "text": [
      "    customer_ip    ip_address\n",
      "0  12.123.12.23  12.123.12.23\n",
      "1  123.12.12.23  123.12.12.23\n",
      "2  12.23.123.23  12.23.123.23\n",
      "3  12.23.12.235  12.23.12.235\n",
      "4          None          None\n",
      "5    invalid_ip          None\n"
     ]
    }
   ],
   "source": [
    "import pandas as pd\n",
    "import re\n",
    "\n",
    "# Sample DataFrame\n",
    "data = {\n",
    "    'customer_ip': ['12.123.12.23', '123.12.12.23', '12.23.123.23', '12.23.12.235', None, 'invalid_ip']\n",
    "}\n",
    "\n",
    "df = pd.DataFrame(data)\n",
    "\n",
    "# Define a regular expression pattern for valid IP formats\n",
    "pattern = r'^(12\\.123\\.12\\.23|123\\.12\\.12\\.23|12\\.23\\.123\\.23|12\\.23\\.12\\.235)$'\n",
    "\n",
    "# Use a lambda function to check for valid IP addresses or set to None\n",
    "df['ip_address'] = df['customer_ip'].apply(lambda x: x if (pd.notnull(x) and re.match(pattern, x)) else None)\n",
    "\n",
    "# Print the updated DataFrame\n",
    "print(df)\n",
    "\n"
   ]
  },
  {
   "cell_type": "code",
   "execution_count": null,
   "id": "1e7f432a",
   "metadata": {},
   "outputs": [],
   "source": []
  },
  {
   "cell_type": "markdown",
   "id": "ea39250f",
   "metadata": {},
   "source": [
    "# Merging"
   ]
  },
  {
   "cell_type": "code",
   "execution_count": 15,
   "id": "5a9e7b67",
   "metadata": {},
   "outputs": [
    {
     "name": "stdout",
     "output_type": "stream",
     "text": [
      "   id     name  age\n",
      "0   1    Alice   25\n",
      "1   2      Bob   30\n",
      "2   3  Charlie   35\n",
      "   id         city       job\n",
      "0   2     New York  Engineer\n",
      "1   3  Los Angeles  Designer\n",
      "2   4      Chicago   Teacher\n"
     ]
    }
   ],
   "source": [
    "import pandas as pd\n",
    "import numpy as np\n",
    "\n",
    "# Create DataFrame A\n",
    "data_A = {\n",
    "    'id': [1, 2, 3],\n",
    "    'name': ['Alice', 'Bob', 'Charlie'],\n",
    "    'age': [25, 30, 35]\n",
    "}\n",
    "df_A = pd.DataFrame(data_A)\n",
    "\n",
    "# Create DataFrame B\n",
    "data_B = {\n",
    "    'id': [2, 3, 4],\n",
    "    'city': ['New York', 'Los Angeles', 'Chicago'],\n",
    "    'job': ['Engineer', 'Designer', 'Teacher']\n",
    "}\n",
    "df_B = pd.DataFrame(data_B)\n",
    "print(df_A)\n",
    "print(df_B)\n"
   ]
  },
  {
   "cell_type": "code",
   "execution_count": 24,
   "id": "fd10df64",
   "metadata": {},
   "outputs": [
    {
     "data": {
      "text/html": [
       "<div>\n",
       "<style scoped>\n",
       "    .dataframe tbody tr th:only-of-type {\n",
       "        vertical-align: middle;\n",
       "    }\n",
       "\n",
       "    .dataframe tbody tr th {\n",
       "        vertical-align: top;\n",
       "    }\n",
       "\n",
       "    .dataframe thead th {\n",
       "        text-align: right;\n",
       "    }\n",
       "</style>\n",
       "<table border=\"1\" class=\"dataframe\">\n",
       "  <thead>\n",
       "    <tr style=\"text-align: right;\">\n",
       "      <th></th>\n",
       "      <th>a_id</th>\n",
       "      <th>name</th>\n",
       "      <th>age</th>\n",
       "      <th>datetime_column_x</th>\n",
       "      <th>city</th>\n",
       "      <th>job</th>\n",
       "      <th>datetime_column_y</th>\n",
       "    </tr>\n",
       "  </thead>\n",
       "  <tbody>\n",
       "    <tr>\n",
       "      <th>0</th>\n",
       "      <td>1</td>\n",
       "      <td>Alice</td>\n",
       "      <td>25</td>\n",
       "      <td>2023-01-15 08:00:00</td>\n",
       "      <td>NaN</td>\n",
       "      <td>NaN</td>\n",
       "      <td>NaN</td>\n",
       "    </tr>\n",
       "    <tr>\n",
       "      <th>1</th>\n",
       "      <td>2</td>\n",
       "      <td>Bob</td>\n",
       "      <td>30</td>\n",
       "      <td>2023-01-15 08:30:00</td>\n",
       "      <td>New York</td>\n",
       "      <td>Engineer</td>\n",
       "      <td>2023-01-15 08:00:00</td>\n",
       "    </tr>\n",
       "    <tr>\n",
       "      <th>2</th>\n",
       "      <td>3</td>\n",
       "      <td>Charlie</td>\n",
       "      <td>35</td>\n",
       "      <td>2023-01-15 09:00:00</td>\n",
       "      <td>Los Angeles</td>\n",
       "      <td>Designer</td>\n",
       "      <td>2023-01-15 08:30:00</td>\n",
       "    </tr>\n",
       "  </tbody>\n",
       "</table>\n",
       "</div>"
      ],
      "text/plain": [
       "   a_id     name  age    datetime_column_x         city       job  \\\n",
       "0     1    Alice   25  2023-01-15 08:00:00          NaN       NaN   \n",
       "1     2      Bob   30  2023-01-15 08:30:00     New York  Engineer   \n",
       "2     3  Charlie   35  2023-01-15 09:00:00  Los Angeles  Designer   \n",
       "\n",
       "     datetime_column_y  \n",
       "0                  NaN  \n",
       "1  2023-01-15 08:00:00  \n",
       "2  2023-01-15 08:30:00  "
      ]
     },
     "execution_count": 24,
     "metadata": {},
     "output_type": "execute_result"
    }
   ],
   "source": [
    "import pandas as pd\n",
    "import numpy as np\n",
    "\n",
    "# Create DataFrame A\n",
    "data_A = {\n",
    "    'a_id': [1, 2, 3],\n",
    "    'name': ['Alice', 'Bob', 'Charlie'],\n",
    "    'age': [25, 30, 35],\n",
    "    'datetime_column': ['2023-01-15 08:00:00', '2023-01-15 08:30:00', '2023-01-15 09:00:00']\n",
    "    \n",
    "}\n",
    "df_A = pd.DataFrame(data_A)\n",
    "\n",
    "# Create DataFrame B\n",
    "data_B = {\n",
    "    'id': [2, 3, 4],\n",
    "    'city': ['New York', 'Los Angeles', 'Chicago'],\n",
    "    'job': ['Engineer', 'Designer', 'Teacher'],\n",
    "    'datetime_column': ['2023-01-15 08:00:00', '2023-01-15 08:30:00', '2023-01-15 09:00:00']\n",
    "}\n",
    "df_B = pd.DataFrame(data_B)\n",
    "\n",
    "# Merge DataFrames A and B based on 'id', filling missing values with NaN\n",
    "merged_df = pd.merge(df_A, df_B, left_on='a_id',right_on = 'id',  how='left' )\n",
    "\n",
    "merged_df.drop('id', axis=1, inplace=True)\n",
    "\n",
    "# Print the merged DataFrame\n",
    "# print(merged_df)\n",
    "\n",
    "# Print the merged DataFrame\n",
    "# print(merged_df)\n",
    "merged_df"
   ]
  },
  {
   "cell_type": "code",
   "execution_count": 1,
   "id": "d543c1d5",
   "metadata": {},
   "outputs": [],
   "source": [
    "import nltk\n",
    "from nltk.corpus import names\n",
    "\n",
    "def is_name(word):\n",
    "    return word in set(names.words())\n"
   ]
  },
  {
   "cell_type": "code",
   "execution_count": 6,
   "id": "5b0688c7",
   "metadata": {},
   "outputs": [
    {
     "data": {
      "text/plain": [
       "False"
      ]
     },
     "execution_count": 6,
     "metadata": {},
     "output_type": "execute_result"
    }
   ],
   "source": [
    "is_name('june')"
   ]
  },
  {
   "cell_type": "code",
   "execution_count": 9,
   "id": "7450b8f2",
   "metadata": {},
   "outputs": [
    {
     "name": "stdout",
     "output_type": "stream",
     "text": [
      "james True\n",
      "hello False\n",
      "mark True\n",
      "pjsndadjlascnmlasdkasd False\n",
      "june True\n"
     ]
    }
   ],
   "source": [
    "check_names = {'hello', 'mark', 'june', 'james', 'pjsndadjlascnmlasdkasd'}\n",
    "for i in check_names:\n",
    "    print(i, is_name(i))"
   ]
  },
  {
   "cell_type": "code",
   "execution_count": 8,
   "id": "161a3553",
   "metadata": {},
   "outputs": [
    {
     "name": "stdout",
     "output_type": "stream",
     "text": [
      "pjsndadjlascnmlasdkasd  is not a name.\n"
     ]
    }
   ],
   "source": [
    "import gender_guesser.detector as gender\n",
    "\n",
    "# Initialize the gender detector\n",
    "gd = gender.Detector(case_sensitive=False)\n",
    "\n",
    "# Function to check if a string is a name\n",
    "def is_name(input_string):\n",
    "    gender_prediction = gd.get_gender(input_string)\n",
    "    \n",
    "    # Check if the prediction indicates a name\n",
    "    return gender_prediction != 'unknown' and gender_prediction != 'andy'\n",
    "\n",
    "# Test the function\n",
    "input_string = 'pjsndadjlascnmlasdkasd '\n",
    "if is_name(input_string):\n",
    "    print(f\"{input_string} is a name.\")\n",
    "else:\n",
    "    print(f\"{input_string} is not a name.\")\n"
   ]
  },
  {
   "cell_type": "code",
   "execution_count": 1,
   "id": "c43d721e",
   "metadata": {},
   "outputs": [
    {
     "name": "stdout",
     "output_type": "stream",
     "text": [
      "                  date\n",
      "0  1955-10-30T00:00:00\n",
      "1  1960-12-25T00:00:00\n",
      "2  1975-08-15T00:00:00\n"
     ]
    }
   ],
   "source": [
    "import pandas as pd\n",
    "from datetime import datetime\n",
    "\n",
    "# Sample DataFrame\n",
    "data = {'date': [\"1955-10-30\", \"1960-12-25\", \"1975-08-15\"]}\n",
    "df = pd.DataFrame(data)\n",
    "\n",
    "# Define a function to convert a date string to ISO 8601 format\n",
    "def convert_to_iso(date_str):\n",
    "    input_format = \"%Y-%m-%d\"\n",
    "    date_obj = datetime.strptime(date_str, input_format)\n",
    "    iso_date = date_obj.isoformat()\n",
    "    return iso_date\n",
    "\n",
    "# Apply the function to the 'date' column\n",
    "df['date'] = df['date'].apply(convert_to_iso)\n",
    "\n",
    "print(df)\n"
   ]
  },
  {
   "cell_type": "code",
   "execution_count": 3,
   "id": "14cf3d37",
   "metadata": {},
   "outputs": [
    {
     "name": "stderr",
     "output_type": "stream",
     "text": [
      "/tmp/ipykernel_257812/1790285445.py:1: DtypeWarning: Columns (28,30,31) have mixed types. Specify dtype option on import or set low_memory=False.\n",
      "  df = pd.read_csv('df_q1_2023_orders_joined.csv')\n"
     ]
    }
   ],
   "source": [
    "df = pd.read_csv('df_q1_2023_orders_joined.csv')"
   ]
  },
  {
   "cell_type": "code",
   "execution_count": 4,
   "id": "c184aad0",
   "metadata": {},
   "outputs": [
    {
     "data": {
      "text/plain": [
       "action_date                             object\n",
       "company_id                               int64\n",
       "company_team_id                          int64\n",
       "company_server_id                        int64\n",
       "compaing_id                              int64\n",
       "marketer_id                              int64\n",
       "brand_id                                 int64\n",
       "communication_channel_id                 int64\n",
       "offer_id                               float64\n",
       "offer_subject_id                         int64\n",
       "offer_text_id                            int64\n",
       "offer_tag_id                             int64\n",
       "offer_category_id                      float64\n",
       "customers_profile_id                     int64\n",
       "customer_id                              int64\n",
       "customer_ip                             object\n",
       "geo_location_id                        float64\n",
       "revenue                                float64\n",
       "dob                                     object\n",
       "dob_created_at                          object\n",
       "first_subscribtion_date                 object\n",
       "last_subscribtion_date                  object\n",
       "original_country                        object\n",
       "fname                                   object\n",
       "lname                                   object\n",
       "gender                                  object\n",
       "continent_name                          object\n",
       "country_name                            object\n",
       "subdivision_1_iso_code                  object\n",
       "subdivision_1_name                      object\n",
       "subdivision_2_iso_code                  object\n",
       "subdivision_2_name                      object\n",
       "city_name                               object\n",
       "time_zone                               object\n",
       "is_in_european_union                    object\n",
       "geo_locations_created_at                object\n",
       "geo_locations_updated_at                object\n",
       "profile_provide_id                     float64\n",
       "profile_category_id                    float64\n",
       "customers_profiles_created_at           object\n",
       "customers_profiles_original_country     object\n",
       "dtype: object"
      ]
     },
     "execution_count": 4,
     "metadata": {},
     "output_type": "execute_result"
    }
   ],
   "source": [
    "df.dtypes"
   ]
  },
  {
   "cell_type": "code",
   "execution_count": null,
   "id": "bc9eb1f9",
   "metadata": {},
   "outputs": [],
   "source": []
  },
  {
   "cell_type": "code",
   "execution_count": 10,
   "id": "3edeb798",
   "metadata": {},
   "outputs": [
    {
     "name": "stdout",
     "output_type": "stream",
     "text": [
      "   float_column\n",
      "0          91.0\n",
      "1          41.0\n",
      "2          73.0\n",
      "3          41.0\n",
      "4          91.0\n",
      "5          73.0\n",
      "6          73.0\n",
      "7          41.0\n",
      "8           NaN\n",
      "9          41.0\n"
     ]
    }
   ],
   "source": [
    "import pandas as pd\n",
    "import numpy as np\n",
    "\n",
    "# Create a sample DataFrame with a floating-point column\n",
    "data = {\n",
    "    'float_column': [91.0, 41.0, 73.0, 41.0, 91.0, 73.0, 73.0, 41.0, np.nan, 41.0]\n",
    "}\n",
    "df = pd.DataFrame(data)\n",
    "\n",
    "# Convert the 'float_column' to integers while handling non-finite values\n",
    "df['float_column'] = df['float_column'].apply(lambda x: int(x) if pd.notna(x) and np.isfinite(x) else None)\n",
    "\n",
    "# Print the DataFrame\n",
    "print(df)\n"
   ]
  },
  {
   "cell_type": "code",
   "execution_count": 12,
   "id": "7053edc0",
   "metadata": {},
   "outputs": [
    {
     "data": {
      "text/plain": [
       "0    91.0\n",
       "1    41.0\n",
       "2    73.0\n",
       "3    41.0\n",
       "4    91.0\n",
       "5    73.0\n",
       "6    73.0\n",
       "7    41.0\n",
       "8     NaN\n",
       "9    41.0\n",
       "Name: float_column, dtype: float64"
      ]
     },
     "execution_count": 12,
     "metadata": {},
     "output_type": "execute_result"
    }
   ],
   "source": [
    "df['float_column']"
   ]
  },
  {
   "cell_type": "code",
   "execution_count": null,
   "id": "19fbbd38",
   "metadata": {},
   "outputs": [],
   "source": [
    "Handle NaN an"
   ]
  },
  {
   "cell_type": "code",
   "execution_count": 37,
   "id": "bf329058",
   "metadata": {},
   "outputs": [
    {
     "name": "stdout",
     "output_type": "stream",
     "text": [
      "   id  a\n",
      "0  91  s\n",
      "1  91  f\n",
      "2  41  r\n",
      "3  41  w\n",
      "4  73  t\n",
      "5  -1  a\n",
      "6  -1  w\n",
      "7  73  v\n"
     ]
    }
   ],
   "source": [
    "import pandas as pd\n",
    "import numpy as np\n",
    "\n",
    "data = {\n",
    "    'id': [91.0, 91.0, 41.0, 41.0, 73.0, np.nan, np.inf, 73.0],\n",
    "    'a': ['s', 'f', 'r', 'w', 't', 'a', 'w', 'v']\n",
    "}\n",
    "\n",
    "# Create a DataFrame from the data dictionary\n",
    "df = pd.DataFrame(data)\n",
    "\n",
    "# Convert the 'id' column to integers, replacing NaN and infinity with -1 (or any other desired value)\n",
    "df['id'] = df['id'].replace([np.nan, np.inf], -1).astype(int)\n",
    "\n",
    "# Now, the 'id' column contains integers with NaN and infinity values replaced by -1\n",
    "print(df)\n"
   ]
  },
  {
   "cell_type": "code",
   "execution_count": null,
   "id": "477df33e",
   "metadata": {},
   "outputs": [],
   "source": []
  }
 ],
 "metadata": {
  "kernelspec": {
   "display_name": "Python 3 (ipykernel)",
   "language": "python",
   "name": "python3"
  },
  "language_info": {
   "codemirror_mode": {
    "name": "ipython",
    "version": 3
   },
   "file_extension": ".py",
   "mimetype": "text/x-python",
   "name": "python",
   "nbconvert_exporter": "python",
   "pygments_lexer": "ipython3",
   "version": "3.11.3"
  }
 },
 "nbformat": 4,
 "nbformat_minor": 5
}
