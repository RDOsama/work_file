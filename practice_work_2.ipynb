{
 "cells": [
  {
   "cell_type": "markdown",
   "id": "2ead0d30-200c-42ed-9112-a0b9fc23ca08",
   "metadata": {},
   "source": [
    "# json file work"
   ]
  },
  {
   "cell_type": "markdown",
   "id": "5048759a-0d7a-4774-9fb0-acb746e440f8",
   "metadata": {},
   "source": [
    "### load json file "
   ]
  },
  {
   "cell_type": "code",
   "execution_count": null,
   "id": "29fb30ab-42f3-40f3-8dfe-20cda9285033",
   "metadata": {},
   "outputs": [],
   "source": [
    "import json\n",
    "with open('file.json', 'r') as f:\n",
    "    orinal_file = json.load(f)"
   ]
  },
  {
   "cell_type": "markdown",
   "id": "9ebaa68b-c46e-4c24-87d4-d46dc71af9e8",
   "metadata": {},
   "source": [
    "### extract specific data from dictionary"
   ]
  },
  {
   "cell_type": "markdown",
   "id": "c1f03eed-9904-4c72-b3a2-d49464c9361c",
   "metadata": {},
   "source": [
    "### for this json format\n",
    "\n",
    "#### [\n",
    "    {\n",
    "        \"img_path\": \"Images/n02085782-Japanese_spaniel/n02085782_2886.jpg\",\n",
    "        \"img_width\": 350,\n",
    "        \"img_height\": 272,\n",
    "        \"img_bbox\": [205, 20, 116, 201],\n",
    "        \"is_multiple_dogs\": False,\n",
    "        \"joints\": [\n",
    "            [56, 136, 1],\n",
    "            [50, 157, 1],\n",
    "            [150, 152, 1],\n",
    "            [143, 173, 1]\n",
    "        ],\n",
    "        \"seg\": \"aaalu\"\n",
    "    },\n",
    "    {\n",
    "        \"img_path\": \"Images/n02085782-Japanese_spaniel/n02085782_2914.jpg\",\n",
    "        \"img_width\": 600,\n",
    "        \"img_height\": 448,\n",
    "        \"img_bbox\": [197, 196, 253, 193],\n",
    "        \"is_multiple_dogs\": False,\n",
    "        \"joints\": [\n",
    "            [384.5, 364.5, 1],\n",
    "            [350.5, 347.5, 1],\n",
    "            [318.5, 330.5, 1],\n",
    "            [0, 0, 0]\n",
    "        ],\n",
    "        \"seg\": \"bbaa\"\n",
    "    },\n",
    "    {\n",
    "        \"img_path\": \"Images/n02085782-Japanese_spaniel/n02085782_2922.jpg\",\n",
    "        \"img_width\": 200,\n",
    "        \"img_height\": 200,\n",
    "        \"img_bbox\": [7, 7, 189, 186],\n",
    "        \"is_multiple_dogs\": False,\n",
    "        \"joints\": [\n",
    "            [10, 93, 1],\n",
    "            [22, 113, 1],\n",
    "            [97, 58, 1],\n",
    "            [112, 69, 1]\n",
    "        ],\n",
    "        \"seg\": \"ccca\"\n",
    "    }\n",
    "#### ]"
   ]
  },
  {
   "cell_type": "code",
   "execution_count": null,
   "id": "e45b6a07-9a64-453e-b9cb-d63be66f47c3",
   "metadata": {},
   "outputs": [],
   "source": [
    "def extract_dicts(data, img_paths):\n",
    "    return [d for d in data if any(img_path in d['img_path'] for img_path in img_paths)]\n",
    "\n",
    "img_paths = [\"n02088364-beagle\", \"n02085782-Japanese_spaniel\"]\n",
    "extracted_dicts = extract_dicts(data, img_paths)\n",
    "extracted_dicts"
   ]
  },
  {
   "cell_type": "markdown",
   "id": "c8d3f1ef-39a8-4436-8af7-2a9b885c3328",
   "metadata": {},
   "source": [
    "### apply loop through the format "
   ]
  },
  {
   "cell_type": "code",
   "execution_count": null,
   "id": "63b8dac8-dc66-4647-82e4-78712ce5fd14",
   "metadata": {},
   "outputs": [],
   "source": [
    "for i, d in enumerate(orinal_file):\n",
    "    print(d['img_path'], d['joints'][-1], '\\n')"
   ]
  }
 ],
 "metadata": {
  "kernelspec": {
   "display_name": "Python 3 (ipykernel)",
   "language": "python",
   "name": "python3"
  },
  "language_info": {
   "codemirror_mode": {
    "name": "ipython",
    "version": 3
   },
   "file_extension": ".py",
   "mimetype": "text/x-python",
   "name": "python",
   "nbconvert_exporter": "python",
   "pygments_lexer": "ipython3",
   "version": "3.11.5"
  }
 },
 "nbformat": 4,
 "nbformat_minor": 5
}
